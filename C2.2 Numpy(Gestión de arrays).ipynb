{
 "cells": [
  {
   "cell_type": "markdown",
   "metadata": {},
   "source": [
    "<img src=\"logo.png\">"
   ]
  },
  {
   "cell_type": "markdown",
   "metadata": {},
   "source": [
    "# Gestión de arrays"
   ]
  },
  {
   "cell_type": "markdown",
   "metadata": {},
   "source": [
    "## Arreglos especiales\n",
    "\n",
    "Numpy cuenta con un cierto compendio para matrices. Es importante comentar que, aunque los ejemplos siguientes son para matrices, se adaptan fácilmente indicando el shape para aplicarse a cualquier tipo de arreglo. Además, toma en cuenta el parámetro *dtype* que nos indica que el tipo de dato a considerar, el cual, usualmente, es de tipo flotante:\n",
    "\n",
    "``np.función(shape,dtype)``\n",
    "\n",
    "donde \n",
    "\n",
    "``shape`` es una tupla donde se indica la forma del arreglo y\n",
    "\n",
    "``dtype`` es el tipo de dato con que queremos llenarla."
   ]
  },
  {
   "cell_type": "code",
   "execution_count": 1,
   "metadata": {},
   "outputs": [],
   "source": [
    "import numpy as np"
   ]
  },
  {
   "cell_type": "code",
   "execution_count": 2,
   "metadata": {},
   "outputs": [
    {
     "data": {
      "text/plain": [
       "array([[1.],\n",
       "       [1.]])"
      ]
     },
     "execution_count": 2,
     "metadata": {},
     "output_type": "execute_result"
    }
   ],
   "source": [
    "# Matriz donde todos los elementos son iguales a 1: np.ones((u,v))\n",
    "\n",
    "np.ones([2,1])"
   ]
  },
  {
   "cell_type": "code",
   "execution_count": 3,
   "metadata": {},
   "outputs": [
    {
     "data": {
      "text/plain": [
       "array([[1, 1, 1],\n",
       "       [1, 1, 1],\n",
       "       [1, 1, 1],\n",
       "       [1, 1, 1]])"
      ]
     },
     "execution_count": 3,
     "metadata": {},
     "output_type": "execute_result"
    }
   ],
   "source": [
    "np.ones((4,3),dtype = int)"
   ]
  },
  {
   "cell_type": "code",
   "execution_count": 4,
   "metadata": {},
   "outputs": [
    {
     "data": {
      "text/plain": [
       "array([[0.],\n",
       "       [0.]])"
      ]
     },
     "execution_count": 4,
     "metadata": {},
     "output_type": "execute_result"
    }
   ],
   "source": [
    "# Matriz donde todos los elementos son iguales a 0: np.zeros((u,v))\n",
    "\n",
    "np.zeros((2,1))"
   ]
  },
  {
   "cell_type": "code",
   "execution_count": 5,
   "metadata": {},
   "outputs": [
    {
     "data": {
      "text/plain": [
       "array([[0, 0, 0],\n",
       "       [0, 0, 0],\n",
       "       [0, 0, 0],\n",
       "       [0, 0, 0]])"
      ]
     },
     "execution_count": 5,
     "metadata": {},
     "output_type": "execute_result"
    }
   ],
   "source": [
    "np.zeros((4,3),dtype = int)"
   ]
  },
  {
   "cell_type": "code",
   "execution_count": 6,
   "metadata": {},
   "outputs": [
    {
     "data": {
      "text/plain": [
       "array([[''],\n",
       "       ['']], dtype='<U1')"
      ]
     },
     "execution_count": 6,
     "metadata": {},
     "output_type": "execute_result"
    }
   ],
   "source": [
    "# Matriz donde todos sus elementos son vacíos: np.empty((u,v))\n",
    "\n",
    "np.empty((2,1),dtype = str)"
   ]
  },
  {
   "cell_type": "code",
   "execution_count": 15,
   "metadata": {},
   "outputs": [
    {
     "data": {
      "text/plain": [
       "array([[0, 0, 0],\n",
       "       [0, 0, 0],\n",
       "       [0, 0, 0],\n",
       "       [0, 0, 0]])"
      ]
     },
     "execution_count": 15,
     "metadata": {},
     "output_type": "execute_result"
    }
   ],
   "source": [
    "np.empty([4,3],dtype = int)"
   ]
  },
  {
   "cell_type": "markdown",
   "metadata": {},
   "source": [
    "### La función np.arange().\n",
    "\n",
    "La función np.arange() generará un arreglo de una dimensión que contiene los enteros definidos en un rango al estilo de range().\n",
    "\n",
    "``np.arange(inicio, fin, incrementos, dtype=<tipo de dato>)``\n",
    "\n",
    "donde \n",
    "\n",
    "* ``<inicio>`` corresponde al número a partir del cual comenzará la secuencia.\n",
    "* ``<fin>`` corresponde al número en el que terminará la secuencia\n",
    "* ``<incrementos>`` correpsonde al número unidades que se incrementarán sucesivamente desde el valor inicial hasta uno antes del valor final.\n",
    "* ``<tipo de dato>`` es el tipo de dato que tendrá el arreglo.\n",
    "\n",
    "\n",
    "El valor por defecto del valor inicial es 0.\n",
    "\n",
    "El valor por defecto de los incrementos es de 1.\n",
    "\n",
    "Si no se define el valor de dtype, se inferirá el tipo de dato del que se trata."
   ]
  },
  {
   "cell_type": "code",
   "execution_count": 19,
   "metadata": {},
   "outputs": [
    {
     "name": "stdout",
     "output_type": "stream",
     "text": [
      "[ 5  6  7  8  9 10 11]\n"
     ]
    },
    {
     "data": {
      "text/plain": [
       "[5, 6, 7, 8, 9, 10, 11]"
      ]
     },
     "execution_count": 19,
     "metadata": {},
     "output_type": "execute_result"
    }
   ],
   "source": [
    "# Arreglo de una dimensión al estilo de un range: np.arange(<inicio>,<final>,incrementos,dtype)\n",
    "\n",
    "#np.arange(5,12)\n",
    "print(np.arange(5,12))\n",
    "list(range(5,12))"
   ]
  },
  {
   "cell_type": "code",
   "execution_count": 20,
   "metadata": {},
   "outputs": [
    {
     "data": {
      "text/plain": [
       "array([ 6.24,  7.04,  7.84,  8.64,  9.44, 10.24, 11.04, 11.84, 12.64,\n",
       "       13.44, 14.24, 15.04])"
      ]
     },
     "execution_count": 20,
     "metadata": {},
     "output_type": "execute_result"
    }
   ],
   "source": [
    "np.arange(6.24, 15.2, 0.8)"
   ]
  },
  {
   "cell_type": "markdown",
   "metadata": {},
   "source": [
    "### La función np.linspace().\n",
    "\n",
    "Esta función creará un arreglo de una dimensión que contiene una secuencia lineal de números dentro de un rango dado entre un valor incial y un valor final. El número de segmentos incluyendo el valor incial y el valor final es definido meduante el parámentro num. El valor por defecto del parámetro num es de 50.\n",
    "\n",
    "``np.linspace(inicio, fin, num=segmentos, dtype=tipo de dato)``\n",
    "\n",
    "Donde:\n",
    "\n",
    "* ``inicio`` corresponde al número a partir del cual comenzará la secuencia.\n",
    "* ``fin`` corresponde al número en el que terminará la secuencia\n",
    "* ``segmentos`` correpsonde al número de segmentos, incluyendo el valor inicial y el final que se generarán, que contendrá el arreglo.\n",
    "* ``tipo de dato`` es el tipo de dato que tendrá el arreglo.\n",
    "\n",
    "El valor por defecto del parámetro dtype es np.float."
   ]
  },
  {
   "cell_type": "markdown",
   "metadata": {},
   "source": [
    "**Nota:** una partición del intervalo $[a,b]$ (es decir, los números mayores o iguales a $a$ y menores o iguales a $b$)  de tamaño $n$ es una conjunto (en el sentido matemático) de la forma $\\{x_1,x_2,...,x_n\\}$ donde $$x_1=a<x_2<x_3<...<x_{n-1}<x_n=b$$\n",
    "\n",
    "Si además $x_2-x_1=x_3-x_2=x_4-x_3=...=x_n-x_{n-1}$, se dice que es una partición equidistante."
   ]
  },
  {
   "cell_type": "code",
   "execution_count": 28,
   "metadata": {},
   "outputs": [
    {
     "data": {
      "text/plain": [
       "array([20.        , 20.05050505, 20.1010101 , 20.15151515, 20.2020202 ,\n",
       "       20.25252525, 20.3030303 , 20.35353535, 20.4040404 , 20.45454545,\n",
       "       20.50505051, 20.55555556, 20.60606061, 20.65656566, 20.70707071,\n",
       "       20.75757576, 20.80808081, 20.85858586, 20.90909091, 20.95959596,\n",
       "       21.01010101, 21.06060606, 21.11111111, 21.16161616, 21.21212121,\n",
       "       21.26262626, 21.31313131, 21.36363636, 21.41414141, 21.46464646,\n",
       "       21.51515152, 21.56565657, 21.61616162, 21.66666667, 21.71717172,\n",
       "       21.76767677, 21.81818182, 21.86868687, 21.91919192, 21.96969697,\n",
       "       22.02020202, 22.07070707, 22.12121212, 22.17171717, 22.22222222,\n",
       "       22.27272727, 22.32323232, 22.37373737, 22.42424242, 22.47474747,\n",
       "       22.52525253, 22.57575758, 22.62626263, 22.67676768, 22.72727273,\n",
       "       22.77777778, 22.82828283, 22.87878788, 22.92929293, 22.97979798,\n",
       "       23.03030303, 23.08080808, 23.13131313, 23.18181818, 23.23232323,\n",
       "       23.28282828, 23.33333333, 23.38383838, 23.43434343, 23.48484848,\n",
       "       23.53535354, 23.58585859, 23.63636364, 23.68686869, 23.73737374,\n",
       "       23.78787879, 23.83838384, 23.88888889, 23.93939394, 23.98989899,\n",
       "       24.04040404, 24.09090909, 24.14141414, 24.19191919, 24.24242424,\n",
       "       24.29292929, 24.34343434, 24.39393939, 24.44444444, 24.49494949,\n",
       "       24.54545455, 24.5959596 , 24.64646465, 24.6969697 , 24.74747475,\n",
       "       24.7979798 , 24.84848485, 24.8989899 , 24.94949495, 25.        ])"
      ]
     },
     "execution_count": 28,
     "metadata": {},
     "output_type": "execute_result"
    }
   ],
   "source": [
    "np.linspace(20,25,100)"
   ]
  },
  {
   "cell_type": "code",
   "execution_count": 31,
   "metadata": {},
   "outputs": [
    {
     "data": {
      "text/plain": [
       "(100,)"
      ]
     },
     "execution_count": 31,
     "metadata": {},
     "output_type": "execute_result"
    }
   ],
   "source": [
    "np.linspace(0,np.pi,num=100).shape\n"
   ]
  },
  {
   "cell_type": "markdown",
   "metadata": {},
   "source": [
    "## Modificación de la forma y tamaño de un arreglo.\n",
    "\n",
    "Estudiaremos cuatro formas básicas para manipular los tamaños de un arreglo:\n",
    "\n",
    "* np.ravel()\n",
    "* np.reshape()\n",
    "* np.resize()\n",
    "* np.concatenate()\n",
    "\n"
   ]
  },
  {
   "cell_type": "markdown",
   "metadata": {},
   "source": [
    "### La función np.ravel()\n",
    "\n",
    "La función *np.ravel()* regresará un arreglo de una dimensión que contiene la referencia de cada uno de los elementos del arreglo que se ingresa como argumento.\n",
    "\n",
    "``np.ravel(<arreglo>)``\n",
    "\n",
    "Donde ``<arreglo>`` es un arreglo de Numpy."
   ]
  },
  {
   "cell_type": "code",
   "execution_count": 32,
   "metadata": {},
   "outputs": [
    {
     "data": {
      "text/plain": [
       "array([ 1,  2,  3,  4,  0, -5, -6, -7, -8])"
      ]
     },
     "execution_count": 32,
     "metadata": {},
     "output_type": "execute_result"
    }
   ],
   "source": [
    "arreglo_1 = np.array([[1, 2, 3],\n",
    "                      [4, 0, -5],\n",
    "                      [-6, -7, -8]])\n",
    "\n",
    "np.ravel(arreglo_1)"
   ]
  },
  {
   "cell_type": "code",
   "execution_count": 33,
   "metadata": {},
   "outputs": [
    {
     "data": {
      "text/plain": [
       "array([[ 1,  2,  3],\n",
       "       [ 4,  0, -5],\n",
       "       [-6, -7, -8]])"
      ]
     },
     "execution_count": 33,
     "metadata": {},
     "output_type": "execute_result"
    }
   ],
   "source": [
    "arreglo_1"
   ]
  },
  {
   "cell_type": "markdown",
   "metadata": {},
   "source": [
    "### La función np.reshape().\n",
    "\n",
    "La función *np.reshape()* regresará un arreglo compuesto por el mismo número de elementos que el arreglo ingresado como primer argumento, pero con la forma descrita por el objeto de tipo tuple que se ingrese como segundo argumento. Las nuevas dimensiones deben de coincidir con el numero total de elementos del arreglo de origen.\n",
    "\n",
    "``np.reshape(<arreglo>, <forma>)``\n",
    "\n",
    "Donde:\n",
    "\n",
    "* ``<arreglo>`` es un arreglo de Numpy.\n",
    "* ``<forma>`` es un un objeto de tipo tuple que describe la forma del arreglo resultante."
   ]
  },
  {
   "cell_type": "code",
   "execution_count": 34,
   "metadata": {},
   "outputs": [
    {
     "data": {
      "text/plain": [
       "(3, 4)"
      ]
     },
     "execution_count": 34,
     "metadata": {},
     "output_type": "execute_result"
    }
   ],
   "source": [
    "arreglo_2 = np.array([[1, 2, 3, 4],\n",
    "                  [5, 6, 7, 8],\n",
    "                  [9, 10, 11, 12]])\n",
    "\n",
    "arreglo_2.shape"
   ]
  },
  {
   "cell_type": "code",
   "execution_count": 38,
   "metadata": {},
   "outputs": [
    {
     "data": {
      "text/plain": [
       "array([[ 1,  2],\n",
       "       [ 3,  4],\n",
       "       [ 5,  6],\n",
       "       [ 7,  8],\n",
       "       [ 9, 10],\n",
       "       [11, 12]])"
      ]
     },
     "execution_count": 38,
     "metadata": {},
     "output_type": "execute_result"
    }
   ],
   "source": [
    "np.reshape(arreglo_2,(6, 2))"
   ]
  },
  {
   "cell_type": "code",
   "execution_count": 42,
   "metadata": {},
   "outputs": [
    {
     "data": {
      "text/plain": [
       "array([[ 1,  2],\n",
       "       [ 3,  4],\n",
       "       [ 5,  6],\n",
       "       [ 7,  8],\n",
       "       [ 9, 10],\n",
       "       [11, 12],\n",
       "       [13, 14],\n",
       "       [15, 16],\n",
       "       [17, 18],\n",
       "       [19, 20]])"
      ]
     },
     "execution_count": 42,
     "metadata": {},
     "output_type": "execute_result"
    }
   ],
   "source": [
    "np.arange(1,21)\n",
    "\n",
    "np.reshape(np.arange(1,21),(10,2))"
   ]
  },
  {
   "cell_type": "markdown",
   "metadata": {},
   "source": [
    "### La función np.resize()\n",
    "\n",
    "La función *np.resize()* regresará un nuevo arreglo a partir del arreglo que se ingrese como primer argumento, con la forma que se ingrese como segundo argumento.\n",
    "\n",
    "En caso de que las nuevas dimensiones sean menores a tamaño original, se recortarán los últimos de ellos.\n",
    "\n",
    "En caso de que las nuevas dimensiones sean mayores al tamaño original, los elementos faltantes serán sustituidos por una secuencia iterativa de los elementos contenidos en el arreglo.\n",
    "\n",
    "``np.resize(<arreglo>, <forma>)``\n",
    "\n",
    "Donde:\n",
    "\n",
    "* ``<arreglo>`` es un arreglo de Numpy.\n",
    "* ``<forma>`` es un objeto de tipo tuple que describe la nueva forma del arreglo resultante."
   ]
  },
  {
   "cell_type": "code",
   "execution_count": 44,
   "metadata": {},
   "outputs": [
    {
     "name": "stdout",
     "output_type": "stream",
     "text": [
      "[[1 2]\n",
      " [3 4]]\n"
     ]
    }
   ],
   "source": [
    "arreglo_3 = np.array([[1, 2],\n",
    "                     [3, 4]])\n",
    "print(arreglo_3)"
   ]
  },
  {
   "cell_type": "code",
   "execution_count": 48,
   "metadata": {},
   "outputs": [
    {
     "data": {
      "text/plain": [
       "array([[1, 2],\n",
       "       [3, 4]])"
      ]
     },
     "execution_count": 48,
     "metadata": {},
     "output_type": "execute_result"
    }
   ],
   "source": [
    "arreglo_3"
   ]
  },
  {
   "cell_type": "code",
   "execution_count": 50,
   "metadata": {},
   "outputs": [
    {
     "data": {
      "text/plain": [
       "array([[1, 2, 3],\n",
       "       [4, 1, 2],\n",
       "       [3, 4, 1]])"
      ]
     },
     "execution_count": 50,
     "metadata": {},
     "output_type": "execute_result"
    }
   ],
   "source": [
    "np.resize(arreglo_3, (3, 3))  # Aplica un ravel y queda [1 2 3 4]\n"
   ]
  },
  {
   "cell_type": "markdown",
   "metadata": {},
   "source": [
    "### La función np.concatenate().\n",
    "\n",
    "Une una secuencia de arreglos contenidos dentro de un objeto tuple a un eje existente, se puede indicar el eje en el que se realizará la operación ingresando su número correspondiente como tercer argumento.\n",
    "\n",
    "``np.concatenate(<arreglo 1>, <arreglo 2>, <eje>)``\n",
    "\n",
    "Donde \n",
    "\n",
    "* ``eje = 0`` significa pegar arreglo 2 debajo de arreglo 1\n",
    "* ``eje = 1`` significa pegar arreglo 2 a la derecha de arreglo 1\n"
   ]
  },
  {
   "cell_type": "code",
   "execution_count": 51,
   "metadata": {},
   "outputs": [],
   "source": [
    "arreglo_1 = np.array([[1, 2],\n",
    "                      [3, 4]])\n",
    "\n",
    "arreglo_2 = np.array([[5, 6],\n",
    "                      [7, 8]])"
   ]
  },
  {
   "cell_type": "code",
   "execution_count": 53,
   "metadata": {},
   "outputs": [
    {
     "data": {
      "text/plain": [
       "array([[1, 2, 5, 6],\n",
       "       [3, 4, 7, 8]])"
      ]
     },
     "execution_count": 53,
     "metadata": {},
     "output_type": "execute_result"
    }
   ],
   "source": [
    "np.concatenate((arreglo_1, arreglo_2), 1)"
   ]
  },
  {
   "cell_type": "markdown",
   "metadata": {},
   "source": [
    "## Matrices con elementos aleatorios\n",
    "\n",
    "### El paquete np.random.\n",
    "\n",
    "#### La función np.random.rand().\n",
    "\n",
    "La función *np.random.rand()* crea un arreglo cuyos elementos son valores aleatorios que van de 0 a antes de 1 dentro de una distribución uniforme.\n",
    "\n",
    "``np.random.rand(<forma>)``\n",
    "\n",
    "Donde ``forma`` es una secuencia de valores enteros separados por comas que definen la forma del arreglo.\n",
    "\n"
   ]
  },
  {
   "cell_type": "code",
   "execution_count": 60,
   "metadata": {},
   "outputs": [
    {
     "data": {
      "text/plain": [
       "array([[1.74725598, 1.48844252, 1.17754258, 1.76968055, 1.43679406],\n",
       "       [1.54717913, 1.3173269 , 1.37628416, 1.62134911, 1.43300791],\n",
       "       [1.8869298 , 1.9433306 , 1.73322261, 1.66533703, 1.52219277]])"
      ]
     },
     "execution_count": 60,
     "metadata": {},
     "output_type": "execute_result"
    }
   ],
   "source": [
    "#La siguiente celda generará un arreglo de forma (3,5) conteniendo números aleatorios.\n",
    "\n",
    "np.random.uniform(1,2,(3,5))"
   ]
  },
  {
   "cell_type": "markdown",
   "metadata": {},
   "source": [
    "#### La función np.random.randint().\n",
    "\n",
    "La función *np.random.randint()* crea un arreglo cuyos elementos son valores entros aleatorios en un rango dado.\n",
    "\n",
    "``np.random.randint(<inicio>, <fin>, <forma>)``\n",
    "\n",
    "Donde:\n",
    "\n",
    "``<inicio>`` es el valor inicial del rango a partir del cual se generarán los números aleatorios, incluyéndolo a este.\n",
    "\n",
    "``<fin>`` es el valor final del rango a partir del cual se generarán los números aleatorios, sin incluirlo.\n",
    "\n",
    "``<forma>`` es un objeto tuple que definen la forma del arreglo."
   ]
  },
  {
   "cell_type": "code",
   "execution_count": 61,
   "metadata": {},
   "outputs": [
    {
     "data": {
      "text/plain": [
       "array([[2, 2, 1],\n",
       "       [2, 1, 1],\n",
       "       [2, 1, 1]])"
      ]
     },
     "execution_count": 61,
     "metadata": {},
     "output_type": "execute_result"
    }
   ],
   "source": [
    "# La siguente celda creará una arreglo de forma (3, 3) con valores enteros que pueden ir de 1 a 2.\n",
    "\n",
    "np.random.randint(1, 3, (3, 3))"
   ]
  },
  {
   "cell_type": "code",
   "execution_count": 62,
   "metadata": {},
   "outputs": [
    {
     "data": {
      "text/plain": [
       "array([[ 49, 127,   1],\n",
       "       [141,  79, 113],\n",
       "       [ 20, 165,  17],\n",
       "       [249,  89, 142],\n",
       "       [ 83,  18, 120],\n",
       "       [195,  62, 229],\n",
       "       [ 70, 171, 212],\n",
       "       [204,  81,  94],\n",
       "       [155, 243,  17],\n",
       "       [196, 235,  29]])"
      ]
     },
     "execution_count": 62,
     "metadata": {},
     "output_type": "execute_result"
    }
   ],
   "source": [
    "# La siguente celda creará una arreglo de  con valores enteros que pueden ir de 0 a 255.\n",
    "\n",
    "np.random.randint(0, 256, (10, 3))"
   ]
  },
  {
   "cell_type": "markdown",
   "metadata": {},
   "source": [
    "## Álgebra lineal\n",
    "    \n",
    "El componente más poderoso de Numpy es su capacidad de realizar operaciones con arreglos, y un caso particular de ellos sobn las matrices numéricas.    \n",
    "\n"
   ]
  },
  {
   "cell_type": "markdown",
   "metadata": {},
   "source": [
    "### Matriz identidad\n",
    "\n",
    "Se refiere a matrices cuadradas donde todos los elementos son cero excepto aquellos de la diagonal principal, que valen 1."
   ]
  },
  {
   "cell_type": "code",
   "execution_count": 64,
   "metadata": {},
   "outputs": [
    {
     "data": {
      "text/plain": [
       "array([[1., 0., 0., 0., 0.],\n",
       "       [0., 1., 0., 0., 0.],\n",
       "       [0., 0., 1., 0., 0.],\n",
       "       [0., 0., 0., 1., 0.],\n",
       "       [0., 0., 0., 0., 1.]])"
      ]
     },
     "execution_count": 64,
     "metadata": {},
     "output_type": "execute_result"
    }
   ],
   "source": [
    "np.eye(5)"
   ]
  },
  {
   "cell_type": "markdown",
   "metadata": {},
   "source": [
    "### Producto puntual (de Hadamard) de dos matrices.\n",
    "\n",
    "Es el producto \"elemento a elemento\" de dos matrices. Ambas deben ser del mismo tamaño.\n",
    "\n"
   ]
  },
  {
   "cell_type": "code",
   "execution_count": 66,
   "metadata": {},
   "outputs": [
    {
     "name": "stdout",
     "output_type": "stream",
     "text": [
      "[[1 2 3]\n",
      " [4 5 6]]\n",
      "[[0 1 0]\n",
      " [0 0 1]]\n"
     ]
    }
   ],
   "source": [
    "# matriz1 * matriz2\n",
    "print(np.array([[1,2,3],[4,5,6]]))\n",
    "print(np.array([[0,1,0],[0,0,1]]))\n"
   ]
  },
  {
   "cell_type": "code",
   "execution_count": 67,
   "metadata": {},
   "outputs": [
    {
     "data": {
      "text/plain": [
       "array([[0, 2, 0],\n",
       "       [0, 0, 6]])"
      ]
     },
     "execution_count": 67,
     "metadata": {},
     "output_type": "execute_result"
    }
   ],
   "source": [
    "np.array([[1,2,3],[4,5,6]]) * np.array([[0,1,0],[0,0,1]])"
   ]
  },
  {
   "cell_type": "code",
   "execution_count": 68,
   "metadata": {},
   "outputs": [
    {
     "data": {
      "text/plain": [
       "array([[0, 4, 3],\n",
       "       [0, 5, 0]])"
      ]
     },
     "execution_count": 68,
     "metadata": {},
     "output_type": "execute_result"
    }
   ],
   "source": [
    "A = np.array([[1,4,3],[2,5,1]])\n",
    "\n",
    "(A >= 3 ) * A"
   ]
  },
  {
   "cell_type": "code",
   "execution_count": 69,
   "metadata": {},
   "outputs": [
    {
     "data": {
      "text/plain": [
       "array([[False,  True,  True],\n",
       "       [False,  True, False]])"
      ]
     },
     "execution_count": 69,
     "metadata": {},
     "output_type": "execute_result"
    }
   ],
   "source": [
    "A >= 3"
   ]
  },
  {
   "cell_type": "markdown",
   "metadata": {},
   "source": [
    "### Producto usual de matrices\n",
    "\n",
    "Es el producto usual de matrices. Se debe tomar en cuenta que si $A$ y $B$ son dos matrices, para que el producto $AB$ tenga sentido se debe cumplir que el número de columnas de $A$ es igual al número de filas de $B$. Se obtiene como resultado una matriz con el mismo número de filas que $A$ y el mismo número de columnas de $B$"
   ]
  },
  {
   "cell_type": "code",
   "execution_count": 76,
   "metadata": {},
   "outputs": [
    {
     "name": "stdout",
     "output_type": "stream",
     "text": [
      "las matrices son A=\n",
      "[[1 4 3]\n",
      " [2 5 1]] y B=\n",
      "[[2 3 1 0]\n",
      " [5 5 1 0]\n",
      " [4 1 2 0]]\n"
     ]
    }
   ],
   "source": [
    "A = np.array([[1,4,3],[2,5,1]])\n",
    "B = np.array([[2,3,1,0],[5,5,1,0],[4,1,2,0]])\n",
    "print(f\"las matrices son A=\\n{A} y B=\\n{B}\")\n"
   ]
  },
  {
   "cell_type": "markdown",
   "metadata": {},
   "source": [
    "Las matrices de este ejemplo son $$\\left(\\begin{array}{ccc}1&4&3\\\\2&5&1\\end{array}\\right),\\left(\\begin{array}{cccc}2&3&1&0\\\\5&5&1&0\\\\4&1&2&0\\end{array}\\right)$$"
   ]
  },
  {
   "cell_type": "code",
   "execution_count": 78,
   "metadata": {},
   "outputs": [
    {
     "data": {
      "text/plain": [
       "array([[34, 26, 11,  0],\n",
       "       [33, 32,  9,  0]])"
      ]
     },
     "execution_count": 78,
     "metadata": {},
     "output_type": "execute_result"
    }
   ],
   "source": [
    "#A @ B\n",
    "\n",
    "np.dot(A,B)"
   ]
  },
  {
   "cell_type": "code",
   "execution_count": 79,
   "metadata": {},
   "outputs": [
    {
     "name": "stdout",
     "output_type": "stream",
     "text": [
      "La forma de A es (2, 3); la de B es (3, 4). Por lo tanto la de AB es (2, 4)\n"
     ]
    }
   ],
   "source": [
    "print(f\"La forma de A es {A.shape}; la de B es {B.shape}. Por lo tanto la de AB es {(A @ B).shape}\")"
   ]
  },
  {
   "cell_type": "markdown",
   "metadata": {},
   "source": [
    "### El paquete numpy.linalg\n",
    "\n",
    "La biblioteca especializada en operaciones de algebra lineal de Numpy es numpy.linalg.\n",
    "\n",
    "Algunas de las funciones mas importantes que contiene son\n",
    "\n",
    "* np.linalg.det()\n",
    "* np.linalg.solve()\n",
    "* np.linalg.inv()"
   ]
  },
  {
   "cell_type": "markdown",
   "metadata": {},
   "source": [
    "#### Determinantes\n",
    "\n",
    "Considere la matriz $$\\left(\\begin{array}{ccc}0&1&2\\\\3&4&5\\\\6&7&8\\end{array}\\right)$$"
   ]
  },
  {
   "cell_type": "code",
   "execution_count": 82,
   "metadata": {},
   "outputs": [
    {
     "data": {
      "text/plain": [
       "0.0"
      ]
     },
     "execution_count": 82,
     "metadata": {},
     "output_type": "execute_result"
    }
   ],
   "source": [
    "# El cálculo de su determinante es 0+42+30-48-0-24\n",
    "\n",
    "A = np.arange(9).reshape(3,3)\n",
    "\n",
    "np.linalg.det(A)\n",
    "\n"
   ]
  },
  {
   "cell_type": "markdown",
   "metadata": {},
   "source": [
    "### Soluciones de ecuaciones lineales con la función ```np.linalg.solve()```.\n",
    "\n",
    "Un sistema de ecuaciones lineales coresponde un conjunto de ecuaciones de la forma:\n",
    "\n",
    "$$\n",
    "a_{11}x_1 + a_{12}x_2 + \\cdots a_{1n}x_n = y_1 \\\\\n",
    "a_{21}x_1 + a_{22}x_2 + \\cdots a_{2n}x_n = y_2\\\\\n",
    "\\vdots\\\\\n",
    "a_{m1}x_1 + a_{m2}x_2 + \\cdots a_{mn}x_n = y_m\n",
    "$$\n",
    "\n",
    "Lo cual puede ser expresado de forma matricial.\n",
    "\n",
    "$$ \n",
    "\\begin{bmatrix}a_{11}\\\\a_{21}\\\\ \\vdots\\\\ a_{m1}\\end{bmatrix}x_1 + \\begin{bmatrix}a_{12}\\\\a_{22}\\\\ \\vdots\\\\ a_{m2}\\end{bmatrix}x_2 + \\cdots \\begin{bmatrix}a_{m1}\\\\a_{m2}\\\\ \\vdots\\\\ a_{mn}\\end{bmatrix}x_n = \\begin{bmatrix}y_{1}\\\\y_{2}\\\\ \\vdots\\\\ y_{m}\\end{bmatrix}\n",
    "$$\n",
    "\n",
    "Existen múltiples métodos para calcular los valores $x_1, x_2 \\cdots x_n$ que cumplan con el sistema siempre que $m = n$.\n",
    "\n",
    "Numpy cuenta con la función *np.linalg.solve()*, la cual puede calcular la solución de un sistema de ecuaciones lineales al expresarse como un par de matrices de la siguiente foma:\n",
    "\n",
    "$$ \n",
    "\\begin{bmatrix}a_{11}&a_{12}&\\cdots&a_{1n}\\\\a_{21}&a_{22}&\\cdots&a_{2n}\\\\ \\vdots\\\\ a_{n1}&a_{n2}&\\cdots&a_{nn}\\end{bmatrix}= \\begin{bmatrix}y_{1}\\\\y_{2}\\\\ \\vdots\\\\ y_{n}\\end{bmatrix}\n",
    "$$\n",
    "\n",
    "La función ```numpy.linagl.solve()``` permite resolver sistemas de ecuaciones lineales ingresando un arreglo de dimensiones ```(n, n)``` como primer argumente y otro con dimensión ```(n)``` como segundo argumento. "
   ]
  },
  {
   "cell_type": "markdown",
   "metadata": {},
   "source": [
    "**Ejemplo:**\n",
    "\n",
    "* Para resolver el sistema de ecuaciones:\n",
    "\n",
    "$$\n",
    "2x_1 + 5x_2 - 3x_3 = 22.2 \\\\\n",
    "11x_1 - 4x_2 + 22x_3 = 11.6 \\\\\n",
    "54x_1 + 1x_2 + 19x_3 = -40.1 \\\\\n",
    "$$\n",
    "\n",
    "* Se realiza lo siguiente:"
   ]
  },
  {
   "cell_type": "code",
   "execution_count": 83,
   "metadata": {},
   "outputs": [
    {
     "data": {
      "text/plain": [
       "array([-1.80243902,  6.7549776 ,  2.65666999])"
      ]
     },
     "execution_count": 83,
     "metadata": {},
     "output_type": "execute_result"
    }
   ],
   "source": [
    "a = np.array([[2, 5, -3],\n",
    "              [11, -4, 22],\n",
    "              [54, 1, 19]])\n",
    "\n",
    "y = np.array([22.2, 11.6, -40.1])\n",
    "\n",
    "np.linalg.solve(a, y)"
   ]
  },
  {
   "cell_type": "markdown",
   "metadata": {},
   "source": [
    "## Matriz inversa."
   ]
  },
  {
   "cell_type": "code",
   "execution_count": 84,
   "metadata": {},
   "outputs": [
    {
     "data": {
      "text/plain": [
       "array([[-0.02439024, -0.02439024,  0.02439024],\n",
       "       [ 0.24365356,  0.04977601, -0.01916376],\n",
       "       [ 0.05649577,  0.06669985, -0.01567944]])"
      ]
     },
     "execution_count": 84,
     "metadata": {},
     "output_type": "execute_result"
    }
   ],
   "source": [
    "np.linalg.inv(a)"
   ]
  },
  {
   "cell_type": "code",
   "execution_count": 95,
   "metadata": {},
   "outputs": [
    {
     "data": {
      "text/plain": [
       "array([[ 1.,  0., -0.],\n",
       "       [ 0.,  1.,  0.],\n",
       "       [-0., -0.,  1.]])"
      ]
     },
     "execution_count": 95,
     "metadata": {},
     "output_type": "execute_result"
    }
   ],
   "source": [
    "np.round(np.linalg.inv(a) @ a ,3)"
   ]
  },
  {
   "cell_type": "code",
   "execution_count": 86,
   "metadata": {},
   "outputs": [
    {
     "data": {
      "text/plain": [
       "array([-1.80243902,  6.7549776 ,  2.65666999])"
      ]
     },
     "execution_count": 86,
     "metadata": {},
     "output_type": "execute_result"
    }
   ],
   "source": [
    "np.linalg.inv(a).dot(y)  # Ax=y y por lo tanto x=A^{-1}y"
   ]
  },
  {
   "cell_type": "markdown",
   "metadata": {},
   "source": [
    "## Transpuesta de una matriz"
   ]
  },
  {
   "cell_type": "code",
   "execution_count": 87,
   "metadata": {},
   "outputs": [
    {
     "data": {
      "text/plain": [
       "array([[0, 1, 2],\n",
       "       [3, 4, 5],\n",
       "       [6, 7, 8]])"
      ]
     },
     "execution_count": 87,
     "metadata": {},
     "output_type": "execute_result"
    }
   ],
   "source": [
    "b = np.arange(9).reshape((3,3))\n",
    "b"
   ]
  },
  {
   "cell_type": "code",
   "execution_count": 88,
   "metadata": {},
   "outputs": [
    {
     "data": {
      "text/plain": [
       "array([[0, 3, 6],\n",
       "       [1, 4, 7],\n",
       "       [2, 5, 8]])"
      ]
     },
     "execution_count": 88,
     "metadata": {},
     "output_type": "execute_result"
    }
   ],
   "source": [
    "b.transpose()"
   ]
  },
  {
   "cell_type": "code",
   "execution_count": 89,
   "metadata": {},
   "outputs": [
    {
     "data": {
      "text/plain": [
       "array([[0, 3, 6],\n",
       "       [1, 4, 7],\n",
       "       [2, 5, 8]])"
      ]
     },
     "execution_count": 89,
     "metadata": {},
     "output_type": "execute_result"
    }
   ],
   "source": [
    "np.transpose(b)"
   ]
  }
 ],
 "metadata": {
  "kernelspec": {
   "display_name": "Python 3",
   "language": "python",
   "name": "python3"
  },
  "language_info": {
   "codemirror_mode": {
    "name": "ipython",
    "version": 3
   },
   "file_extension": ".py",
   "mimetype": "text/x-python",
   "name": "python",
   "nbconvert_exporter": "python",
   "pygments_lexer": "ipython3",
   "version": "3.7.7"
  }
 },
 "nbformat": 4,
 "nbformat_minor": 4
}
