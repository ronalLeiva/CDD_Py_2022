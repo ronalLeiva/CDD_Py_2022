{
 "cells": [
  {
   "cell_type": "markdown",
   "metadata": {},
   "source": [
    "<img src=\"logo.png\">"
   ]
  },
  {
   "cell_type": "markdown",
   "metadata": {},
   "source": [
    "# Pandas\n",
    "\n",
    "Pandas provee dos estructuras de datos: dataframes y series. De hecho Pandas está programado a través de Numpy."
   ]
  },
  {
   "cell_type": "code",
   "execution_count": 2,
   "metadata": {},
   "outputs": [],
   "source": [
    "import pandas as pd\n",
    "import numpy as np"
   ]
  },
  {
   "cell_type": "markdown",
   "metadata": {},
   "source": [
    "## Series\n",
    "\n",
    "Los objetos instanciado de la clase pandas.Series son de una sola dimensión y pueden ser al ingresar como argumento de data objetos de tipo:\n",
    "\n",
    "* tuple\n",
    "* list\n",
    "* dict\n",
    "* numpy.ndarray\n",
    "\n",
    "A las series se les puede asignar un nombre mediante el parametro name."
   ]
  },
  {
   "cell_type": "code",
   "execution_count": 18,
   "metadata": {},
   "outputs": [
    {
     "data": {
      "text/plain": [
       "array([0.00935861, 0.49905781, 0.11338369, 0.04997402, 0.68540759,\n",
       "       0.48698807, 0.89765723, 0.64745207])"
      ]
     },
     "execution_count": 18,
     "metadata": {},
     "output_type": "execute_result"
    }
   ],
   "source": [
    "np.random.seed(2022)\n",
    "np.random.rand(8)"
   ]
  },
  {
   "cell_type": "code",
   "execution_count": 17,
   "metadata": {},
   "outputs": [
    {
     "data": {
      "text/plain": [
       "0    0.009359\n",
       "1    0.499058\n",
       "2    0.113384\n",
       "3    0.049974\n",
       "4    0.685408\n",
       "5    0.486988\n",
       "6    0.897657\n",
       "7    0.647452\n",
       "dtype: float64"
      ]
     },
     "execution_count": 17,
     "metadata": {},
     "output_type": "execute_result"
    }
   ],
   "source": [
    "np.random.seed(2022)\n",
    "serie_1 = pd.Series(np.random.rand(8))\n",
    "serie_1"
   ]
  },
  {
   "cell_type": "code",
   "execution_count": 23,
   "metadata": {},
   "outputs": [
    {
     "data": {
      "text/plain": [
       "0    0.009359\n",
       "1    0.499058\n",
       "2    0.113384\n",
       "3    0.049974\n",
       "4    0.685408\n",
       "5    0.486988\n",
       "6    0.897657\n",
       "7    0.647452\n",
       "Name: mi_primer_serie, dtype: float64"
      ]
     },
     "execution_count": 23,
     "metadata": {},
     "output_type": "execute_result"
    }
   ],
   "source": [
    "np.random.seed(2022)\n",
    "serie_1 = pd.Series(np.random.rand(8), name = \"mi_primer_serie\")\n",
    "serie_1"
   ]
  },
  {
   "cell_type": "code",
   "execution_count": 25,
   "metadata": {},
   "outputs": [
    {
     "data": {
      "text/plain": [
       "0.6854075942430917"
      ]
     },
     "execution_count": 25,
     "metadata": {},
     "output_type": "execute_result"
    }
   ],
   "source": [
    "serie_1[4]"
   ]
  },
  {
   "cell_type": "code",
   "execution_count": 30,
   "metadata": {},
   "outputs": [
    {
     "data": {
      "text/plain": [
       "1    0.009359\n",
       "2    0.499058\n",
       "3    0.113384\n",
       "4    0.049974\n",
       "5    0.685408\n",
       "6    0.486988\n",
       "7    0.897657\n",
       "8    0.647452\n",
       "Name: Mi_segunda_serie, dtype: float64"
      ]
     },
     "execution_count": 30,
     "metadata": {},
     "output_type": "execute_result"
    }
   ],
   "source": [
    "# Podemos especificar los valores de los índices\n",
    "np.random.seed(2022)\n",
    "serie_2 = pd.Series(np.random.rand(8),index = range(1,9),name = \"Mi_segunda_serie\")\n",
    "serie_2"
   ]
  },
  {
   "cell_type": "code",
   "execution_count": 31,
   "metadata": {},
   "outputs": [
    {
     "data": {
      "text/plain": [
       "4    0.009359\n",
       "6    0.499058\n",
       "1    0.113384\n",
       "2    0.049974\n",
       "8    0.685408\n",
       "dtype: float64"
      ]
     },
     "execution_count": 31,
     "metadata": {},
     "output_type": "execute_result"
    }
   ],
   "source": [
    "# Podemos especificar los valores de los índices mas generalmente\n",
    "np.random.seed(2022)\n",
    "serie_3 = pd.Series(np.random.rand(5),index = [4,6,1,2,8])\n",
    "serie_3"
   ]
  },
  {
   "cell_type": "code",
   "execution_count": null,
   "metadata": {},
   "outputs": [],
   "source": [
    "serie_3[0]"
   ]
  },
  {
   "cell_type": "code",
   "execution_count": 34,
   "metadata": {},
   "outputs": [
    {
     "data": {
      "text/plain": [
       "0.009358613807764704"
      ]
     },
     "execution_count": 34,
     "metadata": {},
     "output_type": "execute_result"
    }
   ],
   "source": [
    "serie_3[4]"
   ]
  },
  {
   "cell_type": "code",
   "execution_count": 36,
   "metadata": {},
   "outputs": [
    {
     "data": {
      "text/plain": [
       "a    0.486988\n",
       "a    0.897657\n",
       "i    0.647452\n",
       "o    0.896963\n",
       "u    0.721135\n",
       "dtype: float64"
      ]
     },
     "execution_count": 36,
     "metadata": {},
     "output_type": "execute_result"
    }
   ],
   "source": [
    "serie_4 = pd.Series(np.random.rand(5),index = [\"a\",\"a\",\"i\",\"o\",\"u\"])\n",
    "serie_4"
   ]
  },
  {
   "cell_type": "code",
   "execution_count": 39,
   "metadata": {},
   "outputs": [
    {
     "data": {
      "text/plain": [
       "0.4869880682157304"
      ]
     },
     "execution_count": 39,
     "metadata": {},
     "output_type": "execute_result"
    }
   ],
   "source": [
    "serie_4[0]"
   ]
  },
  {
   "cell_type": "code",
   "execution_count": 40,
   "metadata": {},
   "outputs": [
    {
     "data": {
      "text/plain": [
       "a    0.486988\n",
       "a    0.897657\n",
       "dtype: float64"
      ]
     },
     "execution_count": 40,
     "metadata": {},
     "output_type": "execute_result"
    }
   ],
   "source": [
    "serie_4[\"a\"]"
   ]
  },
  {
   "cell_type": "markdown",
   "metadata": {},
   "source": [
    "Incluso los diccionarios se pueden convertir en series"
   ]
  },
  {
   "cell_type": "code",
   "execution_count": 43,
   "metadata": {},
   "outputs": [
    {
     "data": {
      "text/plain": [
       "Nombre      [Héctor, Manuel]\n",
       "Apellido             Garduño\n",
       "dtype: object"
      ]
     },
     "execution_count": 43,
     "metadata": {},
     "output_type": "execute_result"
    }
   ],
   "source": [
    "diccionario = {\"Nombre\":[\"Héctor\",\"Manuel\"],\"Apellido\":\"Garduño\"}\n",
    "pd.Series(diccionario)"
   ]
  },
  {
   "cell_type": "markdown",
   "metadata": {},
   "source": [
    "Es importante notar que las series son estructuras de datos en una sola dimensión. Si queremos estructuras mas complejas, debemos usar dataframes."
   ]
  },
  {
   "cell_type": "markdown",
   "metadata": {},
   "source": [
    "## Dataframes\n",
    "\n",
    "Los dataframes son similares a un aerreglo en 2 dimensiones de Numpy. Sin embargo, a diferencia de los arreglos de Numpy, no todas las columnas de estos objetos deben de ser necesariamente del mismo tipo.\n",
    "\n",
    "La clase **pandas.DataFrame** permite crear dataframes a partir de datos que pueden corresponder a:\n",
    "\n",
    "* Objetos de tipo dict.\n",
    "* Series objetos tipo tuple.\n",
    "* Objetos numpy.ndarray (arreglos que contienen sólo números).\n",
    "* Otros objetos instanciado de pandas.DataFrame.\n",
    "\n",
    "Dichos datos pueden ser ingresados como argumentos del parámetro data al instanciarlos.\n",
    "\n",
    "Los dataframes indexan por defecto las columnas y los encabrezados con valores numéricos. Sin embargo, estos pueden ser modificados por el usuario.\n"
   ]
  },
  {
   "cell_type": "code",
   "execution_count": 47,
   "metadata": {},
   "outputs": [
    {
     "data": {
      "text/html": [
       "<div>\n",
       "<style scoped>\n",
       "    .dataframe tbody tr th:only-of-type {\n",
       "        vertical-align: middle;\n",
       "    }\n",
       "\n",
       "    .dataframe tbody tr th {\n",
       "        vertical-align: top;\n",
       "    }\n",
       "\n",
       "    .dataframe thead th {\n",
       "        text-align: right;\n",
       "    }\n",
       "</style>\n",
       "<table border=\"1\" class=\"dataframe\">\n",
       "  <thead>\n",
       "    <tr style=\"text-align: right;\">\n",
       "      <th></th>\n",
       "      <th>0</th>\n",
       "      <th>1</th>\n",
       "      <th>2</th>\n",
       "    </tr>\n",
       "  </thead>\n",
       "  <tbody>\n",
       "    <tr>\n",
       "      <th>0</th>\n",
       "      <td>0</td>\n",
       "      <td>8</td>\n",
       "      <td>21</td>\n",
       "    </tr>\n",
       "    <tr>\n",
       "      <th>1</th>\n",
       "      <td>1</td>\n",
       "      <td>2</td>\n",
       "      <td>3</td>\n",
       "    </tr>\n",
       "    <tr>\n",
       "      <th>2</th>\n",
       "      <td>2</td>\n",
       "      <td>3</td>\n",
       "      <td>4</td>\n",
       "    </tr>\n",
       "    <tr>\n",
       "      <th>3</th>\n",
       "      <td>3</td>\n",
       "      <td>4</td>\n",
       "      <td>5</td>\n",
       "    </tr>\n",
       "  </tbody>\n",
       "</table>\n",
       "</div>"
      ],
      "text/plain": [
       "   0  1   2\n",
       "0  0  8  21\n",
       "1  1  2   3\n",
       "2  2  3   4\n",
       "3  3  4   5"
      ]
     },
     "execution_count": 47,
     "metadata": {},
     "output_type": "execute_result"
    }
   ],
   "source": [
    "pd.DataFrame(data=[(0, 8, 21), (1, 2, 3), (2, 3, 4), (3, 4, 5)])"
   ]
  },
  {
   "cell_type": "code",
   "execution_count": 2,
   "metadata": {},
   "outputs": [],
   "source": [
    "estudiantes = {'Nombre':[\"Hugo\", \"Paco\", \"Luis\" ,\"Pedro\", \"Juan\", \"Pablo\"], \n",
    "                'Apellido':[\"López\", \"Silva\", \"Oca\" , \"Ramírez\", \"Gutiérrez\", np.nan ], \n",
    "                'Matrícula':[\"123455\", \"736923\", \"971298\" ,\"123098\", \"987656\", \"878652\"], \n",
    "                'Edad':[20, 35, 30 ,25, np.nan,23]}"
   ]
  },
  {
   "cell_type": "code",
   "execution_count": 3,
   "metadata": {},
   "outputs": [
    {
     "data": {
      "text/html": [
       "<div>\n",
       "<style scoped>\n",
       "    .dataframe tbody tr th:only-of-type {\n",
       "        vertical-align: middle;\n",
       "    }\n",
       "\n",
       "    .dataframe tbody tr th {\n",
       "        vertical-align: top;\n",
       "    }\n",
       "\n",
       "    .dataframe thead th {\n",
       "        text-align: right;\n",
       "    }\n",
       "</style>\n",
       "<table border=\"1\" class=\"dataframe\">\n",
       "  <thead>\n",
       "    <tr style=\"text-align: right;\">\n",
       "      <th></th>\n",
       "      <th>Nombre</th>\n",
       "      <th>Apellido</th>\n",
       "      <th>Matrícula</th>\n",
       "      <th>Edad</th>\n",
       "    </tr>\n",
       "  </thead>\n",
       "  <tbody>\n",
       "    <tr>\n",
       "      <th>0</th>\n",
       "      <td>Hugo</td>\n",
       "      <td>López</td>\n",
       "      <td>123455</td>\n",
       "      <td>20.0</td>\n",
       "    </tr>\n",
       "    <tr>\n",
       "      <th>1</th>\n",
       "      <td>Paco</td>\n",
       "      <td>Silva</td>\n",
       "      <td>736923</td>\n",
       "      <td>35.0</td>\n",
       "    </tr>\n",
       "    <tr>\n",
       "      <th>2</th>\n",
       "      <td>Luis</td>\n",
       "      <td>Oca</td>\n",
       "      <td>971298</td>\n",
       "      <td>30.0</td>\n",
       "    </tr>\n",
       "    <tr>\n",
       "      <th>3</th>\n",
       "      <td>Pedro</td>\n",
       "      <td>Ramírez</td>\n",
       "      <td>123098</td>\n",
       "      <td>25.0</td>\n",
       "    </tr>\n",
       "    <tr>\n",
       "      <th>4</th>\n",
       "      <td>Juan</td>\n",
       "      <td>Gutiérrez</td>\n",
       "      <td>987656</td>\n",
       "      <td>NaN</td>\n",
       "    </tr>\n",
       "    <tr>\n",
       "      <th>5</th>\n",
       "      <td>Pablo</td>\n",
       "      <td>NaN</td>\n",
       "      <td>878652</td>\n",
       "      <td>23.0</td>\n",
       "    </tr>\n",
       "  </tbody>\n",
       "</table>\n",
       "</div>"
      ],
      "text/plain": [
       "  Nombre   Apellido Matrícula  Edad\n",
       "0   Hugo      López    123455  20.0\n",
       "1   Paco      Silva    736923  35.0\n",
       "2   Luis        Oca    971298  30.0\n",
       "3  Pedro    Ramírez    123098  25.0\n",
       "4   Juan  Gutiérrez    987656   NaN\n",
       "5  Pablo        NaN    878652  23.0"
      ]
     },
     "execution_count": 3,
     "metadata": {},
     "output_type": "execute_result"
    }
   ],
   "source": [
    "pd.DataFrame(estudiantes)"
   ]
  },
  {
   "cell_type": "code",
   "execution_count": 4,
   "metadata": {},
   "outputs": [
    {
     "data": {
      "text/plain": [
       "array([[0, 1, 2],\n",
       "       [3, 4, 5],\n",
       "       [6, 7, 8]])"
      ]
     },
     "execution_count": 4,
     "metadata": {},
     "output_type": "execute_result"
    }
   ],
   "source": [
    "matriz = np.arange(9).reshape(3,3)\n",
    "matriz"
   ]
  },
  {
   "cell_type": "code",
   "execution_count": 63,
   "metadata": {},
   "outputs": [
    {
     "data": {
      "text/html": [
       "<div>\n",
       "<style scoped>\n",
       "    .dataframe tbody tr th:only-of-type {\n",
       "        vertical-align: middle;\n",
       "    }\n",
       "\n",
       "    .dataframe tbody tr th {\n",
       "        vertical-align: top;\n",
       "    }\n",
       "\n",
       "    .dataframe thead th {\n",
       "        text-align: right;\n",
       "    }\n",
       "</style>\n",
       "<table border=\"1\" class=\"dataframe\">\n",
       "  <thead>\n",
       "    <tr style=\"text-align: right;\">\n",
       "      <th></th>\n",
       "      <th>0</th>\n",
       "      <th>1</th>\n",
       "      <th>2</th>\n",
       "    </tr>\n",
       "  </thead>\n",
       "  <tbody>\n",
       "    <tr>\n",
       "      <th>0</th>\n",
       "      <td>0</td>\n",
       "      <td>1</td>\n",
       "      <td>2</td>\n",
       "    </tr>\n",
       "    <tr>\n",
       "      <th>1</th>\n",
       "      <td>3</td>\n",
       "      <td>4</td>\n",
       "      <td>5</td>\n",
       "    </tr>\n",
       "    <tr>\n",
       "      <th>2</th>\n",
       "      <td>6</td>\n",
       "      <td>7</td>\n",
       "      <td>8</td>\n",
       "    </tr>\n",
       "  </tbody>\n",
       "</table>\n",
       "</div>"
      ],
      "text/plain": [
       "   0  1  2\n",
       "0  0  1  2\n",
       "1  3  4  5\n",
       "2  6  7  8"
      ]
     },
     "execution_count": 63,
     "metadata": {},
     "output_type": "execute_result"
    }
   ],
   "source": [
    "pd.DataFrame(matriz)"
   ]
  },
  {
   "cell_type": "markdown",
   "metadata": {},
   "source": [
    "El parámetro index, permite incluir un índice a cada renglón."
   ]
  },
  {
   "cell_type": "code",
   "execution_count": 6,
   "metadata": {},
   "outputs": [],
   "source": [
    "registro = [\"1a persona\",\"2a persona\",\"3a persona\",\"4a persona\",\"5a persona\",\"6a persona\"]"
   ]
  },
  {
   "cell_type": "code",
   "execution_count": 7,
   "metadata": {},
   "outputs": [
    {
     "data": {
      "text/html": [
       "<div>\n",
       "<style scoped>\n",
       "    .dataframe tbody tr th:only-of-type {\n",
       "        vertical-align: middle;\n",
       "    }\n",
       "\n",
       "    .dataframe tbody tr th {\n",
       "        vertical-align: top;\n",
       "    }\n",
       "\n",
       "    .dataframe thead th {\n",
       "        text-align: right;\n",
       "    }\n",
       "</style>\n",
       "<table border=\"1\" class=\"dataframe\">\n",
       "  <thead>\n",
       "    <tr style=\"text-align: right;\">\n",
       "      <th></th>\n",
       "      <th>Nombre</th>\n",
       "      <th>Apellido</th>\n",
       "      <th>Matrícula</th>\n",
       "      <th>Edad</th>\n",
       "    </tr>\n",
       "  </thead>\n",
       "  <tbody>\n",
       "    <tr>\n",
       "      <th>1a persona</th>\n",
       "      <td>Hugo</td>\n",
       "      <td>López</td>\n",
       "      <td>123455</td>\n",
       "      <td>20.0</td>\n",
       "    </tr>\n",
       "    <tr>\n",
       "      <th>2a persona</th>\n",
       "      <td>Paco</td>\n",
       "      <td>Silva</td>\n",
       "      <td>736923</td>\n",
       "      <td>35.0</td>\n",
       "    </tr>\n",
       "    <tr>\n",
       "      <th>3a persona</th>\n",
       "      <td>Luis</td>\n",
       "      <td>Oca</td>\n",
       "      <td>971298</td>\n",
       "      <td>30.0</td>\n",
       "    </tr>\n",
       "    <tr>\n",
       "      <th>4a persona</th>\n",
       "      <td>Pedro</td>\n",
       "      <td>Ramírez</td>\n",
       "      <td>123098</td>\n",
       "      <td>25.0</td>\n",
       "    </tr>\n",
       "    <tr>\n",
       "      <th>5a persona</th>\n",
       "      <td>Juan</td>\n",
       "      <td>Gutiérrez</td>\n",
       "      <td>987656</td>\n",
       "      <td>NaN</td>\n",
       "    </tr>\n",
       "    <tr>\n",
       "      <th>6a persona</th>\n",
       "      <td>Pablo</td>\n",
       "      <td>NaN</td>\n",
       "      <td>878652</td>\n",
       "      <td>23.0</td>\n",
       "    </tr>\n",
       "  </tbody>\n",
       "</table>\n",
       "</div>"
      ],
      "text/plain": [
       "           Nombre   Apellido Matrícula  Edad\n",
       "1a persona   Hugo      López    123455  20.0\n",
       "2a persona   Paco      Silva    736923  35.0\n",
       "3a persona   Luis        Oca    971298  30.0\n",
       "4a persona  Pedro    Ramírez    123098  25.0\n",
       "5a persona   Juan  Gutiérrez    987656   NaN\n",
       "6a persona  Pablo        NaN    878652  23.0"
      ]
     },
     "execution_count": 7,
     "metadata": {},
     "output_type": "execute_result"
    }
   ],
   "source": [
    "pd.DataFrame(data = estudiantes, index = registro)"
   ]
  },
  {
   "cell_type": "markdown",
   "metadata": {},
   "source": [
    "El parámetro columns permite nombrar a las columnas."
   ]
  },
  {
   "cell_type": "code",
   "execution_count": 66,
   "metadata": {},
   "outputs": [],
   "source": [
    "matriz = np.arange(9).reshape((3,3))"
   ]
  },
  {
   "cell_type": "code",
   "execution_count": 67,
   "metadata": {},
   "outputs": [
    {
     "data": {
      "text/plain": [
       "array([[0, 1, 2],\n",
       "       [3, 4, 5],\n",
       "       [6, 7, 8]])"
      ]
     },
     "execution_count": 67,
     "metadata": {},
     "output_type": "execute_result"
    }
   ],
   "source": [
    "matriz"
   ]
  },
  {
   "cell_type": "code",
   "execution_count": 68,
   "metadata": {},
   "outputs": [
    {
     "data": {
      "text/html": [
       "<div>\n",
       "<style scoped>\n",
       "    .dataframe tbody tr th:only-of-type {\n",
       "        vertical-align: middle;\n",
       "    }\n",
       "\n",
       "    .dataframe tbody tr th {\n",
       "        vertical-align: top;\n",
       "    }\n",
       "\n",
       "    .dataframe thead th {\n",
       "        text-align: right;\n",
       "    }\n",
       "</style>\n",
       "<table border=\"1\" class=\"dataframe\">\n",
       "  <thead>\n",
       "    <tr style=\"text-align: right;\">\n",
       "      <th></th>\n",
       "      <th>a</th>\n",
       "      <th>b</th>\n",
       "      <th>c</th>\n",
       "    </tr>\n",
       "  </thead>\n",
       "  <tbody>\n",
       "    <tr>\n",
       "      <th>uno</th>\n",
       "      <td>0</td>\n",
       "      <td>1</td>\n",
       "      <td>2</td>\n",
       "    </tr>\n",
       "    <tr>\n",
       "      <th>dos</th>\n",
       "      <td>3</td>\n",
       "      <td>4</td>\n",
       "      <td>5</td>\n",
       "    </tr>\n",
       "    <tr>\n",
       "      <th>tres</th>\n",
       "      <td>6</td>\n",
       "      <td>7</td>\n",
       "      <td>8</td>\n",
       "    </tr>\n",
       "  </tbody>\n",
       "</table>\n",
       "</div>"
      ],
      "text/plain": [
       "      a  b  c\n",
       "uno   0  1  2\n",
       "dos   3  4  5\n",
       "tres  6  7  8"
      ]
     },
     "execution_count": 68,
     "metadata": {},
     "output_type": "execute_result"
    }
   ],
   "source": [
    "pd.DataFrame(matriz, index=['uno','dos','tres'], columns=['a', 'b', 'c'])"
   ]
  },
  {
   "cell_type": "code",
   "execution_count": 8,
   "metadata": {},
   "outputs": [
    {
     "data": {
      "text/html": [
       "<div>\n",
       "<style scoped>\n",
       "    .dataframe tbody tr th:only-of-type {\n",
       "        vertical-align: middle;\n",
       "    }\n",
       "\n",
       "    .dataframe tbody tr th {\n",
       "        vertical-align: top;\n",
       "    }\n",
       "\n",
       "    .dataframe thead th {\n",
       "        text-align: right;\n",
       "    }\n",
       "</style>\n",
       "<table border=\"1\" class=\"dataframe\">\n",
       "  <thead>\n",
       "    <tr style=\"text-align: right;\">\n",
       "      <th></th>\n",
       "      <th>Nombre</th>\n",
       "      <th>Apellido</th>\n",
       "      <th>Matrícula</th>\n",
       "      <th>Edad</th>\n",
       "    </tr>\n",
       "  </thead>\n",
       "  <tbody>\n",
       "    <tr>\n",
       "      <th>Registro 1</th>\n",
       "      <td>Hugo</td>\n",
       "      <td>López</td>\n",
       "      <td>123455</td>\n",
       "      <td>20.0</td>\n",
       "    </tr>\n",
       "    <tr>\n",
       "      <th>Registro 2</th>\n",
       "      <td>Paco</td>\n",
       "      <td>Silva</td>\n",
       "      <td>736923</td>\n",
       "      <td>NaN</td>\n",
       "    </tr>\n",
       "    <tr>\n",
       "      <th>Registro 3</th>\n",
       "      <td>Luis</td>\n",
       "      <td>Oca</td>\n",
       "      <td>971298</td>\n",
       "      <td>NaN</td>\n",
       "    </tr>\n",
       "    <tr>\n",
       "      <th>Registro 4</th>\n",
       "      <td>Pedro</td>\n",
       "      <td>Ramírez</td>\n",
       "      <td>123098</td>\n",
       "      <td>NaN</td>\n",
       "    </tr>\n",
       "  </tbody>\n",
       "</table>\n",
       "</div>"
      ],
      "text/plain": [
       "           Nombre Apellido  Matrícula  Edad\n",
       "Registro 1   Hugo    López     123455  20.0\n",
       "Registro 2   Paco    Silva     736923   NaN\n",
       "Registro 3   Luis      Oca     971298   NaN\n",
       "Registro 4  Pedro  Ramírez     123098   NaN"
      ]
     },
     "execution_count": 8,
     "metadata": {},
     "output_type": "execute_result"
    }
   ],
   "source": [
    "pd.DataFrame(\n",
    "[[\"Hugo\",\"López\",123455,20],\n",
    " [\"Paco\",\"Silva\",736923],\n",
    " [\"Luis\",\"Oca\",971298],\n",
    " [\"Pedro\",\"Ramírez\",123098]    \n",
    "], columns = [\"Nombre\",\"Apellido\",\"Matrícula\",\"Edad\"],    \n",
    "    index = [\"Registro 1\",\"Registro 2\",\"Registro 3\",\"Registro 4\"]\n",
    "    \n",
    ")"
   ]
  },
  {
   "cell_type": "markdown",
   "metadata": {},
   "source": [
    "## Acceso a los elementos de un dataframe\n",
    "\n",
    "Podemos accesar a los elementos de un dataframe mediante las siguientes maneras. Consideremos nuevamente el dataframe anterior:"
   ]
  },
  {
   "cell_type": "code",
   "execution_count": 58,
   "metadata": {},
   "outputs": [
    {
     "data": {
      "text/html": [
       "<div>\n",
       "<style scoped>\n",
       "    .dataframe tbody tr th:only-of-type {\n",
       "        vertical-align: middle;\n",
       "    }\n",
       "\n",
       "    .dataframe tbody tr th {\n",
       "        vertical-align: top;\n",
       "    }\n",
       "\n",
       "    .dataframe thead th {\n",
       "        text-align: right;\n",
       "    }\n",
       "</style>\n",
       "<table border=\"1\" class=\"dataframe\">\n",
       "  <thead>\n",
       "    <tr style=\"text-align: right;\">\n",
       "      <th></th>\n",
       "      <th>Nombre</th>\n",
       "      <th>Apellido</th>\n",
       "      <th>Matrícula</th>\n",
       "      <th>Edad</th>\n",
       "    </tr>\n",
       "  </thead>\n",
       "  <tbody>\n",
       "    <tr>\n",
       "      <th>Registro 1</th>\n",
       "      <td>Hugo</td>\n",
       "      <td>López</td>\n",
       "      <td>123455</td>\n",
       "      <td>20.0</td>\n",
       "    </tr>\n",
       "    <tr>\n",
       "      <th>Registro 2</th>\n",
       "      <td>Paco</td>\n",
       "      <td>Silva</td>\n",
       "      <td>736923</td>\n",
       "      <td>35.0</td>\n",
       "    </tr>\n",
       "    <tr>\n",
       "      <th>Registro 3</th>\n",
       "      <td>Luis</td>\n",
       "      <td>Oca</td>\n",
       "      <td>971298</td>\n",
       "      <td>NaN</td>\n",
       "    </tr>\n",
       "    <tr>\n",
       "      <th>Registro 4</th>\n",
       "      <td>Pedro</td>\n",
       "      <td>Ramírez</td>\n",
       "      <td>123098</td>\n",
       "      <td>NaN</td>\n",
       "    </tr>\n",
       "  </tbody>\n",
       "</table>\n",
       "</div>"
      ],
      "text/plain": [
       "           Nombre Apellido Matrícula  Edad\n",
       "Registro 1   Hugo    López    123455  20.0\n",
       "Registro 2   Paco    Silva    736923  35.0\n",
       "Registro 3   Luis      Oca    971298   NaN\n",
       "Registro 4  Pedro  Ramírez    123098   NaN"
      ]
     },
     "execution_count": 58,
     "metadata": {},
     "output_type": "execute_result"
    }
   ],
   "source": [
    "estudiantes = pd.DataFrame(\n",
    "[[\"Hugo\",\"López\",\"123455\",20],\n",
    " [\"Paco\",\"Silva\",\"736923\",35],\n",
    " [\"Luis\",\"Oca\",\"971298\"],\n",
    " [\"Pedro\",\"Ramírez\",\"123098\"]    \n",
    "], index = [\"Registro 1\",\"Registro 2\",\"Registro 3\",\"Registro 4\"],\n",
    "    columns = [\"Nombre\",\"Apellido\",\"Matrícula\",\"Edad\"]\n",
    ")\n",
    "\n",
    "estudiantes\n"
   ]
  },
  {
   "cell_type": "code",
   "execution_count": 59,
   "metadata": {},
   "outputs": [
    {
     "data": {
      "text/plain": [
       "Registro 1    123455\n",
       "Registro 2    736923\n",
       "Registro 3    971298\n",
       "Registro 4    123098\n",
       "Name: Matrícula, dtype: object"
      ]
     },
     "execution_count": 59,
     "metadata": {},
     "output_type": "execute_result"
    }
   ],
   "source": [
    "# Acceso a una columna: usando el nombre de los campos\n",
    "\n",
    "estudiantes[\"Matrícula\"]"
   ]
  },
  {
   "cell_type": "code",
   "execution_count": 60,
   "metadata": {},
   "outputs": [
    {
     "data": {
      "text/html": [
       "<div>\n",
       "<style scoped>\n",
       "    .dataframe tbody tr th:only-of-type {\n",
       "        vertical-align: middle;\n",
       "    }\n",
       "\n",
       "    .dataframe tbody tr th {\n",
       "        vertical-align: top;\n",
       "    }\n",
       "\n",
       "    .dataframe thead th {\n",
       "        text-align: right;\n",
       "    }\n",
       "</style>\n",
       "<table border=\"1\" class=\"dataframe\">\n",
       "  <thead>\n",
       "    <tr style=\"text-align: right;\">\n",
       "      <th></th>\n",
       "      <th>Nombre</th>\n",
       "      <th>Edad</th>\n",
       "    </tr>\n",
       "  </thead>\n",
       "  <tbody>\n",
       "    <tr>\n",
       "      <th>Registro 1</th>\n",
       "      <td>Hugo</td>\n",
       "      <td>20.0</td>\n",
       "    </tr>\n",
       "    <tr>\n",
       "      <th>Registro 2</th>\n",
       "      <td>Paco</td>\n",
       "      <td>35.0</td>\n",
       "    </tr>\n",
       "    <tr>\n",
       "      <th>Registro 3</th>\n",
       "      <td>Luis</td>\n",
       "      <td>NaN</td>\n",
       "    </tr>\n",
       "    <tr>\n",
       "      <th>Registro 4</th>\n",
       "      <td>Pedro</td>\n",
       "      <td>NaN</td>\n",
       "    </tr>\n",
       "  </tbody>\n",
       "</table>\n",
       "</div>"
      ],
      "text/plain": [
       "           Nombre  Edad\n",
       "Registro 1   Hugo  20.0\n",
       "Registro 2   Paco  35.0\n",
       "Registro 3   Luis   NaN\n",
       "Registro 4  Pedro   NaN"
      ]
     },
     "execution_count": 60,
     "metadata": {},
     "output_type": "execute_result"
    }
   ],
   "source": [
    "# Acceso a varias columnas: usando el nombre de los campos\n",
    "\n",
    "estudiantes[[\"Nombre\",\"Edad\"]]"
   ]
  },
  {
   "cell_type": "code",
   "execution_count": 61,
   "metadata": {},
   "outputs": [
    {
     "data": {
      "text/html": [
       "<div>\n",
       "<style scoped>\n",
       "    .dataframe tbody tr th:only-of-type {\n",
       "        vertical-align: middle;\n",
       "    }\n",
       "\n",
       "    .dataframe tbody tr th {\n",
       "        vertical-align: top;\n",
       "    }\n",
       "\n",
       "    .dataframe thead th {\n",
       "        text-align: right;\n",
       "    }\n",
       "</style>\n",
       "<table border=\"1\" class=\"dataframe\">\n",
       "  <thead>\n",
       "    <tr style=\"text-align: right;\">\n",
       "      <th></th>\n",
       "      <th>Nombre</th>\n",
       "      <th>Apellido</th>\n",
       "      <th>Matrícula</th>\n",
       "      <th>Edad</th>\n",
       "    </tr>\n",
       "  </thead>\n",
       "  <tbody>\n",
       "    <tr>\n",
       "      <th>Registro 2</th>\n",
       "      <td>Paco</td>\n",
       "      <td>Silva</td>\n",
       "      <td>736923</td>\n",
       "      <td>35.0</td>\n",
       "    </tr>\n",
       "    <tr>\n",
       "      <th>Registro 4</th>\n",
       "      <td>Pedro</td>\n",
       "      <td>Ramírez</td>\n",
       "      <td>123098</td>\n",
       "      <td>NaN</td>\n",
       "    </tr>\n",
       "  </tbody>\n",
       "</table>\n",
       "</div>"
      ],
      "text/plain": [
       "           Nombre Apellido Matrícula  Edad\n",
       "Registro 2   Paco    Silva    736923  35.0\n",
       "Registro 4  Pedro  Ramírez    123098   NaN"
      ]
     },
     "execution_count": 61,
     "metadata": {},
     "output_type": "execute_result"
    }
   ],
   "source": [
    "# Acceso a una fila mediante el nombre del ínice del registro\n",
    "\n",
    "estudiantes.loc[[\"Registro 2\",\"Registro 4\"]]"
   ]
  },
  {
   "cell_type": "code",
   "execution_count": 62,
   "metadata": {},
   "outputs": [
    {
     "data": {
      "text/plain": [
       "Nombre         Paco\n",
       "Apellido      Silva\n",
       "Matrícula    736923\n",
       "Edad           35.0\n",
       "Name: Registro 2, dtype: object"
      ]
     },
     "execution_count": 62,
     "metadata": {},
     "output_type": "execute_result"
    }
   ],
   "source": [
    "# Acceso a una fila mediante el número del índice del registro\n",
    "\n",
    "estudiantes.iloc[1]"
   ]
  },
  {
   "cell_type": "code",
   "execution_count": 63,
   "metadata": {},
   "outputs": [
    {
     "data": {
      "text/html": [
       "<div>\n",
       "<style scoped>\n",
       "    .dataframe tbody tr th:only-of-type {\n",
       "        vertical-align: middle;\n",
       "    }\n",
       "\n",
       "    .dataframe tbody tr th {\n",
       "        vertical-align: top;\n",
       "    }\n",
       "\n",
       "    .dataframe thead th {\n",
       "        text-align: right;\n",
       "    }\n",
       "</style>\n",
       "<table border=\"1\" class=\"dataframe\">\n",
       "  <thead>\n",
       "    <tr style=\"text-align: right;\">\n",
       "      <th></th>\n",
       "      <th>Nombre</th>\n",
       "      <th>Edad</th>\n",
       "    </tr>\n",
       "  </thead>\n",
       "  <tbody>\n",
       "    <tr>\n",
       "      <th>Registro 1</th>\n",
       "      <td>Hugo</td>\n",
       "      <td>20.0</td>\n",
       "    </tr>\n",
       "    <tr>\n",
       "      <th>Registro 4</th>\n",
       "      <td>Pedro</td>\n",
       "      <td>NaN</td>\n",
       "    </tr>\n",
       "  </tbody>\n",
       "</table>\n",
       "</div>"
      ],
      "text/plain": [
       "           Nombre  Edad\n",
       "Registro 1   Hugo  20.0\n",
       "Registro 4  Pedro   NaN"
      ]
     },
     "execution_count": 63,
     "metadata": {},
     "output_type": "execute_result"
    }
   ],
   "source": [
    "# Acceso a ciertas columnas y ciertas filas.\n",
    "\n",
    "estudiantes.loc[[\"Registro 1\",\"Registro 4\"]][[\"Nombre\",\"Edad\"]]"
   ]
  },
  {
   "cell_type": "code",
   "execution_count": 64,
   "metadata": {},
   "outputs": [
    {
     "data": {
      "text/html": [
       "<div>\n",
       "<style scoped>\n",
       "    .dataframe tbody tr th:only-of-type {\n",
       "        vertical-align: middle;\n",
       "    }\n",
       "\n",
       "    .dataframe tbody tr th {\n",
       "        vertical-align: top;\n",
       "    }\n",
       "\n",
       "    .dataframe thead th {\n",
       "        text-align: right;\n",
       "    }\n",
       "</style>\n",
       "<table border=\"1\" class=\"dataframe\">\n",
       "  <thead>\n",
       "    <tr style=\"text-align: right;\">\n",
       "      <th></th>\n",
       "      <th>Nombre</th>\n",
       "      <th>Edad</th>\n",
       "    </tr>\n",
       "  </thead>\n",
       "  <tbody>\n",
       "    <tr>\n",
       "      <th>Registro 1</th>\n",
       "      <td>Hugo</td>\n",
       "      <td>20.0</td>\n",
       "    </tr>\n",
       "    <tr>\n",
       "      <th>Registro 4</th>\n",
       "      <td>Pedro</td>\n",
       "      <td>NaN</td>\n",
       "    </tr>\n",
       "  </tbody>\n",
       "</table>\n",
       "</div>"
      ],
      "text/plain": [
       "           Nombre  Edad\n",
       "Registro 1   Hugo  20.0\n",
       "Registro 4  Pedro   NaN"
      ]
     },
     "execution_count": 64,
     "metadata": {},
     "output_type": "execute_result"
    }
   ],
   "source": [
    "estudiantes[[\"Nombre\",\"Edad\"]].loc[[\"Registro 1\",\"Registro 4\"]]"
   ]
  },
  {
   "cell_type": "markdown",
   "metadata": {},
   "source": [
    "## Operaciones básicas de dataframes\n",
    "\n",
    "También es posible añadir nuevas columnas a un dataframe utilizando columnas que ya existen."
   ]
  },
  {
   "cell_type": "code",
   "execution_count": 65,
   "metadata": {},
   "outputs": [
    {
     "data": {
      "text/plain": [
       "Index(['Nombre', 'Apellido', 'Matrícula', 'Edad'], dtype='object')"
      ]
     },
     "execution_count": 65,
     "metadata": {},
     "output_type": "execute_result"
    }
   ],
   "source": [
    "estudiantes.columns"
   ]
  },
  {
   "cell_type": "code",
   "execution_count": 66,
   "metadata": {},
   "outputs": [
    {
     "data": {
      "text/html": [
       "<div>\n",
       "<style scoped>\n",
       "    .dataframe tbody tr th:only-of-type {\n",
       "        vertical-align: middle;\n",
       "    }\n",
       "\n",
       "    .dataframe tbody tr th {\n",
       "        vertical-align: top;\n",
       "    }\n",
       "\n",
       "    .dataframe thead th {\n",
       "        text-align: right;\n",
       "    }\n",
       "</style>\n",
       "<table border=\"1\" class=\"dataframe\">\n",
       "  <thead>\n",
       "    <tr style=\"text-align: right;\">\n",
       "      <th></th>\n",
       "      <th>Nombre</th>\n",
       "      <th>Apellido</th>\n",
       "      <th>Matrícula</th>\n",
       "      <th>Edad</th>\n",
       "      <th>Nombre completo</th>\n",
       "    </tr>\n",
       "  </thead>\n",
       "  <tbody>\n",
       "    <tr>\n",
       "      <th>Registro 1</th>\n",
       "      <td>Hugo</td>\n",
       "      <td>López</td>\n",
       "      <td>123455</td>\n",
       "      <td>20.0</td>\n",
       "      <td>Hugo López</td>\n",
       "    </tr>\n",
       "    <tr>\n",
       "      <th>Registro 2</th>\n",
       "      <td>Paco</td>\n",
       "      <td>Silva</td>\n",
       "      <td>736923</td>\n",
       "      <td>35.0</td>\n",
       "      <td>Paco Silva</td>\n",
       "    </tr>\n",
       "    <tr>\n",
       "      <th>Registro 3</th>\n",
       "      <td>Luis</td>\n",
       "      <td>Oca</td>\n",
       "      <td>971298</td>\n",
       "      <td>NaN</td>\n",
       "      <td>Luis Oca</td>\n",
       "    </tr>\n",
       "    <tr>\n",
       "      <th>Registro 4</th>\n",
       "      <td>Pedro</td>\n",
       "      <td>Ramírez</td>\n",
       "      <td>123098</td>\n",
       "      <td>NaN</td>\n",
       "      <td>Pedro Ramírez</td>\n",
       "    </tr>\n",
       "  </tbody>\n",
       "</table>\n",
       "</div>"
      ],
      "text/plain": [
       "           Nombre Apellido Matrícula  Edad Nombre completo\n",
       "Registro 1   Hugo    López    123455  20.0      Hugo López\n",
       "Registro 2   Paco    Silva    736923  35.0      Paco Silva\n",
       "Registro 3   Luis      Oca    971298   NaN        Luis Oca\n",
       "Registro 4  Pedro  Ramírez    123098   NaN   Pedro Ramírez"
      ]
     },
     "execution_count": 66,
     "metadata": {},
     "output_type": "execute_result"
    }
   ],
   "source": [
    "estudiantes[\"Nombre completo\"] = estudiantes[\"Nombre\"] + \" \" + estudiantes[\"Apellido\"]\n",
    "estudiantes"
   ]
  },
  {
   "cell_type": "code",
   "execution_count": 67,
   "metadata": {},
   "outputs": [
    {
     "data": {
      "text/html": [
       "<div>\n",
       "<style scoped>\n",
       "    .dataframe tbody tr th:only-of-type {\n",
       "        vertical-align: middle;\n",
       "    }\n",
       "\n",
       "    .dataframe tbody tr th {\n",
       "        vertical-align: top;\n",
       "    }\n",
       "\n",
       "    .dataframe thead th {\n",
       "        text-align: right;\n",
       "    }\n",
       "</style>\n",
       "<table border=\"1\" class=\"dataframe\">\n",
       "  <thead>\n",
       "    <tr style=\"text-align: right;\">\n",
       "      <th></th>\n",
       "      <th>Nombre</th>\n",
       "      <th>Apellido</th>\n",
       "      <th>Matrícula</th>\n",
       "      <th>Edad</th>\n",
       "    </tr>\n",
       "  </thead>\n",
       "  <tbody>\n",
       "    <tr>\n",
       "      <th>Registro 1</th>\n",
       "      <td>Hugo</td>\n",
       "      <td>López</td>\n",
       "      <td>123455</td>\n",
       "      <td>20.0</td>\n",
       "    </tr>\n",
       "    <tr>\n",
       "      <th>Registro 2</th>\n",
       "      <td>Paco</td>\n",
       "      <td>Silva</td>\n",
       "      <td>736923</td>\n",
       "      <td>35.0</td>\n",
       "    </tr>\n",
       "    <tr>\n",
       "      <th>Registro 3</th>\n",
       "      <td>Luis</td>\n",
       "      <td>Oca</td>\n",
       "      <td>971298</td>\n",
       "      <td>NaN</td>\n",
       "    </tr>\n",
       "    <tr>\n",
       "      <th>Registro 4</th>\n",
       "      <td>Pedro</td>\n",
       "      <td>Ramírez</td>\n",
       "      <td>123098</td>\n",
       "      <td>NaN</td>\n",
       "    </tr>\n",
       "  </tbody>\n",
       "</table>\n",
       "</div>"
      ],
      "text/plain": [
       "           Nombre Apellido Matrícula  Edad\n",
       "Registro 1   Hugo    López    123455  20.0\n",
       "Registro 2   Paco    Silva    736923  35.0\n",
       "Registro 3   Luis      Oca    971298   NaN\n",
       "Registro 4  Pedro  Ramírez    123098   NaN"
      ]
     },
     "execution_count": 67,
     "metadata": {},
     "output_type": "execute_result"
    }
   ],
   "source": [
    "# Eliminado de columnas\n",
    "\n",
    "estudiantes.drop(\"Nombre completo\", axis = 1, inplace = True)\n",
    "estudiantes"
   ]
  },
  {
   "cell_type": "code",
   "execution_count": 68,
   "metadata": {},
   "outputs": [
    {
     "data": {
      "text/html": [
       "<div>\n",
       "<style scoped>\n",
       "    .dataframe tbody tr th:only-of-type {\n",
       "        vertical-align: middle;\n",
       "    }\n",
       "\n",
       "    .dataframe tbody tr th {\n",
       "        vertical-align: top;\n",
       "    }\n",
       "\n",
       "    .dataframe thead th {\n",
       "        text-align: right;\n",
       "    }\n",
       "</style>\n",
       "<table border=\"1\" class=\"dataframe\">\n",
       "  <thead>\n",
       "    <tr style=\"text-align: right;\">\n",
       "      <th></th>\n",
       "      <th>index</th>\n",
       "      <th>Nombre</th>\n",
       "      <th>Apellido</th>\n",
       "      <th>Matrícula</th>\n",
       "      <th>Edad</th>\n",
       "    </tr>\n",
       "  </thead>\n",
       "  <tbody>\n",
       "    <tr>\n",
       "      <th>0</th>\n",
       "      <td>Registro 1</td>\n",
       "      <td>Hugo</td>\n",
       "      <td>López</td>\n",
       "      <td>123455</td>\n",
       "      <td>20.0</td>\n",
       "    </tr>\n",
       "    <tr>\n",
       "      <th>1</th>\n",
       "      <td>Registro 2</td>\n",
       "      <td>Paco</td>\n",
       "      <td>Silva</td>\n",
       "      <td>736923</td>\n",
       "      <td>35.0</td>\n",
       "    </tr>\n",
       "    <tr>\n",
       "      <th>2</th>\n",
       "      <td>Registro 3</td>\n",
       "      <td>Luis</td>\n",
       "      <td>Oca</td>\n",
       "      <td>971298</td>\n",
       "      <td>NaN</td>\n",
       "    </tr>\n",
       "    <tr>\n",
       "      <th>3</th>\n",
       "      <td>Registro 4</td>\n",
       "      <td>Pedro</td>\n",
       "      <td>Ramírez</td>\n",
       "      <td>123098</td>\n",
       "      <td>NaN</td>\n",
       "    </tr>\n",
       "  </tbody>\n",
       "</table>\n",
       "</div>"
      ],
      "text/plain": [
       "        index Nombre Apellido Matrícula  Edad\n",
       "0  Registro 1   Hugo    López    123455  20.0\n",
       "1  Registro 2   Paco    Silva    736923  35.0\n",
       "2  Registro 3   Luis      Oca    971298   NaN\n",
       "3  Registro 4  Pedro  Ramírez    123098   NaN"
      ]
     },
     "execution_count": 68,
     "metadata": {},
     "output_type": "execute_result"
    }
   ],
   "source": [
    "# Indexar numéricamente los registros\n",
    "\n",
    "estudiantes.reset_index(inplace = True)\n",
    "estudiantes"
   ]
  },
  {
   "cell_type": "code",
   "execution_count": 69,
   "metadata": {},
   "outputs": [
    {
     "data": {
      "text/html": [
       "<div>\n",
       "<style scoped>\n",
       "    .dataframe tbody tr th:only-of-type {\n",
       "        vertical-align: middle;\n",
       "    }\n",
       "\n",
       "    .dataframe tbody tr th {\n",
       "        vertical-align: top;\n",
       "    }\n",
       "\n",
       "    .dataframe thead th {\n",
       "        text-align: right;\n",
       "    }\n",
       "</style>\n",
       "<table border=\"1\" class=\"dataframe\">\n",
       "  <thead>\n",
       "    <tr style=\"text-align: right;\">\n",
       "      <th></th>\n",
       "      <th>Matrícula</th>\n",
       "      <th>Edad</th>\n",
       "    </tr>\n",
       "  </thead>\n",
       "  <tbody>\n",
       "    <tr>\n",
       "      <th>0</th>\n",
       "      <td>123455</td>\n",
       "      <td>20.0</td>\n",
       "    </tr>\n",
       "    <tr>\n",
       "      <th>3</th>\n",
       "      <td>123098</td>\n",
       "      <td>NaN</td>\n",
       "    </tr>\n",
       "  </tbody>\n",
       "</table>\n",
       "</div>"
      ],
      "text/plain": [
       "  Matrícula  Edad\n",
       "0    123455  20.0\n",
       "3    123098   NaN"
      ]
     },
     "execution_count": 69,
     "metadata": {},
     "output_type": "execute_result"
    }
   ],
   "source": [
    "# Acceso a ciertas columnas y ciertas filas.\n",
    "\n",
    "estudiantes.loc[[0,3],[\"Matrícula\",\"Edad\"]]"
   ]
  },
  {
   "cell_type": "code",
   "execution_count": 70,
   "metadata": {},
   "outputs": [
    {
     "data": {
      "text/html": [
       "<div>\n",
       "<style scoped>\n",
       "    .dataframe tbody tr th:only-of-type {\n",
       "        vertical-align: middle;\n",
       "    }\n",
       "\n",
       "    .dataframe tbody tr th {\n",
       "        vertical-align: top;\n",
       "    }\n",
       "\n",
       "    .dataframe thead th {\n",
       "        text-align: right;\n",
       "    }\n",
       "</style>\n",
       "<table border=\"1\" class=\"dataframe\">\n",
       "  <thead>\n",
       "    <tr style=\"text-align: right;\">\n",
       "      <th></th>\n",
       "      <th>index</th>\n",
       "      <th>Edad</th>\n",
       "    </tr>\n",
       "  </thead>\n",
       "  <tbody>\n",
       "    <tr>\n",
       "      <th>1</th>\n",
       "      <td>Registro 2</td>\n",
       "      <td>35.0</td>\n",
       "    </tr>\n",
       "  </tbody>\n",
       "</table>\n",
       "</div>"
      ],
      "text/plain": [
       "        index  Edad\n",
       "1  Registro 2  35.0"
      ]
     },
     "execution_count": 70,
     "metadata": {},
     "output_type": "execute_result"
    }
   ],
   "source": [
    "# Incluso podemos hacer selección por filtrado\n",
    "\n",
    "#estudiantes[estudiantes[\"Edad\"] > 20][[\"index\",\"Edad\",\"Matrícula\"]]\n",
    "\n",
    "estudiantes[estudiantes[\"Edad\"] > 20][[\"index\",\"Edad\"]]\n"
   ]
  },
  {
   "cell_type": "code",
   "execution_count": 71,
   "metadata": {},
   "outputs": [
    {
     "data": {
      "text/html": [
       "<div>\n",
       "<style scoped>\n",
       "    .dataframe tbody tr th:only-of-type {\n",
       "        vertical-align: middle;\n",
       "    }\n",
       "\n",
       "    .dataframe tbody tr th {\n",
       "        vertical-align: top;\n",
       "    }\n",
       "\n",
       "    .dataframe thead th {\n",
       "        text-align: right;\n",
       "    }\n",
       "</style>\n",
       "<table border=\"1\" class=\"dataframe\">\n",
       "  <thead>\n",
       "    <tr style=\"text-align: right;\">\n",
       "      <th></th>\n",
       "      <th>Campo 1</th>\n",
       "      <th>Campo 2</th>\n",
       "      <th>Campo 3</th>\n",
       "      <th>Campo 4</th>\n",
       "      <th>Campo 5</th>\n",
       "    </tr>\n",
       "  </thead>\n",
       "  <tbody>\n",
       "    <tr>\n",
       "      <th>0</th>\n",
       "      <td>Registro 1</td>\n",
       "      <td>Hugo</td>\n",
       "      <td>López</td>\n",
       "      <td>123455</td>\n",
       "      <td>20.0</td>\n",
       "    </tr>\n",
       "    <tr>\n",
       "      <th>1</th>\n",
       "      <td>Registro 2</td>\n",
       "      <td>Paco</td>\n",
       "      <td>Silva</td>\n",
       "      <td>736923</td>\n",
       "      <td>35.0</td>\n",
       "    </tr>\n",
       "    <tr>\n",
       "      <th>2</th>\n",
       "      <td>Registro 3</td>\n",
       "      <td>Luis</td>\n",
       "      <td>Oca</td>\n",
       "      <td>971298</td>\n",
       "      <td>NaN</td>\n",
       "    </tr>\n",
       "    <tr>\n",
       "      <th>3</th>\n",
       "      <td>Registro 4</td>\n",
       "      <td>Pedro</td>\n",
       "      <td>Ramírez</td>\n",
       "      <td>123098</td>\n",
       "      <td>NaN</td>\n",
       "    </tr>\n",
       "  </tbody>\n",
       "</table>\n",
       "</div>"
      ],
      "text/plain": [
       "      Campo 1 Campo 2  Campo 3 Campo 4  Campo 5\n",
       "0  Registro 1    Hugo    López  123455     20.0\n",
       "1  Registro 2    Paco    Silva  736923     35.0\n",
       "2  Registro 3    Luis      Oca  971298      NaN\n",
       "3  Registro 4   Pedro  Ramírez  123098      NaN"
      ]
     },
     "execution_count": 71,
     "metadata": {},
     "output_type": "execute_result"
    }
   ],
   "source": [
    "# Cambiando los nombres de las columnas\n",
    "\n",
    "estudiantes.columns = [\"Campo 1\",\"Campo 2\",\"Campo 3\",\"Campo 4\",\"Campo 5\"]\n",
    "estudiantes"
   ]
  },
  {
   "cell_type": "code",
   "execution_count": 72,
   "metadata": {},
   "outputs": [
    {
     "data": {
      "text/html": [
       "<div>\n",
       "<style scoped>\n",
       "    .dataframe tbody tr th:only-of-type {\n",
       "        vertical-align: middle;\n",
       "    }\n",
       "\n",
       "    .dataframe tbody tr th {\n",
       "        vertical-align: top;\n",
       "    }\n",
       "\n",
       "    .dataframe thead th {\n",
       "        text-align: right;\n",
       "    }\n",
       "</style>\n",
       "<table border=\"1\" class=\"dataframe\">\n",
       "  <thead>\n",
       "    <tr style=\"text-align: right;\">\n",
       "      <th></th>\n",
       "      <th>Campo 1</th>\n",
       "      <th>campo_2</th>\n",
       "      <th>Campo 3</th>\n",
       "      <th>Campo 4</th>\n",
       "      <th>Campo 5</th>\n",
       "    </tr>\n",
       "  </thead>\n",
       "  <tbody>\n",
       "    <tr>\n",
       "      <th>0</th>\n",
       "      <td>Registro 1</td>\n",
       "      <td>Hugo</td>\n",
       "      <td>López</td>\n",
       "      <td>123455</td>\n",
       "      <td>20.0</td>\n",
       "    </tr>\n",
       "    <tr>\n",
       "      <th>1</th>\n",
       "      <td>Registro 2</td>\n",
       "      <td>Paco</td>\n",
       "      <td>Silva</td>\n",
       "      <td>736923</td>\n",
       "      <td>35.0</td>\n",
       "    </tr>\n",
       "    <tr>\n",
       "      <th>2</th>\n",
       "      <td>Registro 3</td>\n",
       "      <td>Luis</td>\n",
       "      <td>Oca</td>\n",
       "      <td>971298</td>\n",
       "      <td>NaN</td>\n",
       "    </tr>\n",
       "    <tr>\n",
       "      <th>3</th>\n",
       "      <td>Registro 4</td>\n",
       "      <td>Pedro</td>\n",
       "      <td>Ramírez</td>\n",
       "      <td>123098</td>\n",
       "      <td>NaN</td>\n",
       "    </tr>\n",
       "  </tbody>\n",
       "</table>\n",
       "</div>"
      ],
      "text/plain": [
       "      Campo 1 campo_2  Campo 3 Campo 4  Campo 5\n",
       "0  Registro 1    Hugo    López  123455     20.0\n",
       "1  Registro 2    Paco    Silva  736923     35.0\n",
       "2  Registro 3    Luis      Oca  971298      NaN\n",
       "3  Registro 4   Pedro  Ramírez  123098      NaN"
      ]
     },
     "execution_count": 72,
     "metadata": {},
     "output_type": "execute_result"
    }
   ],
   "source": [
    "# cambiando nombre de columnas\n",
    "estudiantes.rename(columns={\"Campo 2\":\"campo_2\"}, inplace=True)\n",
    "estudiantes"
   ]
  },
  {
   "cell_type": "code",
   "execution_count": 73,
   "metadata": {},
   "outputs": [
    {
     "data": {
      "text/html": [
       "<div>\n",
       "<style scoped>\n",
       "    .dataframe tbody tr th:only-of-type {\n",
       "        vertical-align: middle;\n",
       "    }\n",
       "\n",
       "    .dataframe tbody tr th {\n",
       "        vertical-align: top;\n",
       "    }\n",
       "\n",
       "    .dataframe thead th {\n",
       "        text-align: right;\n",
       "    }\n",
       "</style>\n",
       "<table border=\"1\" class=\"dataframe\">\n",
       "  <thead>\n",
       "    <tr style=\"text-align: right;\">\n",
       "      <th></th>\n",
       "      <th>Campo 1</th>\n",
       "      <th>Campo 3</th>\n",
       "      <th>Campo 4</th>\n",
       "      <th>Campo 5</th>\n",
       "    </tr>\n",
       "    <tr>\n",
       "      <th>campo_2</th>\n",
       "      <th></th>\n",
       "      <th></th>\n",
       "      <th></th>\n",
       "      <th></th>\n",
       "    </tr>\n",
       "  </thead>\n",
       "  <tbody>\n",
       "    <tr>\n",
       "      <th>Hugo</th>\n",
       "      <td>Registro 1</td>\n",
       "      <td>López</td>\n",
       "      <td>123455</td>\n",
       "      <td>20.0</td>\n",
       "    </tr>\n",
       "    <tr>\n",
       "      <th>Paco</th>\n",
       "      <td>Registro 2</td>\n",
       "      <td>Silva</td>\n",
       "      <td>736923</td>\n",
       "      <td>35.0</td>\n",
       "    </tr>\n",
       "    <tr>\n",
       "      <th>Luis</th>\n",
       "      <td>Registro 3</td>\n",
       "      <td>Oca</td>\n",
       "      <td>971298</td>\n",
       "      <td>NaN</td>\n",
       "    </tr>\n",
       "    <tr>\n",
       "      <th>Pedro</th>\n",
       "      <td>Registro 4</td>\n",
       "      <td>Ramírez</td>\n",
       "      <td>123098</td>\n",
       "      <td>NaN</td>\n",
       "    </tr>\n",
       "  </tbody>\n",
       "</table>\n",
       "</div>"
      ],
      "text/plain": [
       "            Campo 1  Campo 3 Campo 4  Campo 5\n",
       "campo_2                                      \n",
       "Hugo     Registro 1    López  123455     20.0\n",
       "Paco     Registro 2    Silva  736923     35.0\n",
       "Luis     Registro 3      Oca  971298      NaN\n",
       "Pedro    Registro 4  Ramírez  123098      NaN"
      ]
     },
     "execution_count": 73,
     "metadata": {},
     "output_type": "execute_result"
    }
   ],
   "source": [
    "# Cambiando los nombres de las filas\n",
    "# Coloco los datos de la columna elegida como nombre de la fila\n",
    "# Elimino la columna_2 para que no este 2 veces\n",
    "\n",
    "estudiantes.index = estudiantes[\"campo_2\"]\n",
    "estudiantes.drop(axis=1, columns=\"campo_2\", inplace=True)\n",
    "estudiantes"
   ]
  },
  {
   "cell_type": "code",
   "execution_count": 74,
   "metadata": {},
   "outputs": [
    {
     "data": {
      "text/html": [
       "<div>\n",
       "<style scoped>\n",
       "    .dataframe tbody tr th:only-of-type {\n",
       "        vertical-align: middle;\n",
       "    }\n",
       "\n",
       "    .dataframe tbody tr th {\n",
       "        vertical-align: top;\n",
       "    }\n",
       "\n",
       "    .dataframe thead th {\n",
       "        text-align: right;\n",
       "    }\n",
       "</style>\n",
       "<table border=\"1\" class=\"dataframe\">\n",
       "  <thead>\n",
       "    <tr style=\"text-align: right;\">\n",
       "      <th></th>\n",
       "      <th>Campo 1</th>\n",
       "      <th>Campo 3</th>\n",
       "      <th>Campo 4</th>\n",
       "      <th>Campo 5</th>\n",
       "    </tr>\n",
       "    <tr>\n",
       "      <th>campo_2</th>\n",
       "      <th></th>\n",
       "      <th></th>\n",
       "      <th></th>\n",
       "      <th></th>\n",
       "    </tr>\n",
       "  </thead>\n",
       "  <tbody>\n",
       "    <tr>\n",
       "      <th>Hugo</th>\n",
       "      <td>Registro 1</td>\n",
       "      <td>López</td>\n",
       "      <td>123455</td>\n",
       "      <td>20.0</td>\n",
       "    </tr>\n",
       "    <tr>\n",
       "      <th>Paco</th>\n",
       "      <td>Registro 2</td>\n",
       "      <td>Silva</td>\n",
       "      <td>736923</td>\n",
       "      <td>35.0</td>\n",
       "    </tr>\n",
       "    <tr>\n",
       "      <th>Luis</th>\n",
       "      <td>Registro 3</td>\n",
       "      <td>Oca</td>\n",
       "      <td>971298</td>\n",
       "      <td>NaN</td>\n",
       "    </tr>\n",
       "    <tr>\n",
       "      <th>Pedro</th>\n",
       "      <td>Registro 4</td>\n",
       "      <td>Ramírez</td>\n",
       "      <td>123098</td>\n",
       "      <td>NaN</td>\n",
       "    </tr>\n",
       "    <tr>\n",
       "      <th>Marcos</th>\n",
       "      <td>Registro 5</td>\n",
       "      <td>González</td>\n",
       "      <td>2233434</td>\n",
       "      <td>29</td>\n",
       "    </tr>\n",
       "  </tbody>\n",
       "</table>\n",
       "</div>"
      ],
      "text/plain": [
       "            Campo 1    Campo 3   Campo 4 Campo 5\n",
       "campo_2                                         \n",
       "Hugo     Registro 1      López    123455    20.0\n",
       "Paco     Registro 2      Silva    736923    35.0\n",
       "Luis     Registro 3        Oca    971298     NaN\n",
       "Pedro    Registro 4    Ramírez    123098     NaN\n",
       "Marcos   Registro 5   González   2233434      29"
      ]
     },
     "execution_count": 74,
     "metadata": {},
     "output_type": "execute_result"
    }
   ],
   "source": [
    "# Agregado de una fila\n",
    "\n",
    "nuevo_elemento = \"Registro 5, González, 2233434, 29\"\n",
    "nuevo_elemento.split(\", \")\n",
    "\n",
    "# Va a buscar el indice pero como no lo encuentra, entonces lo crea e inserta la información\n",
    "\n",
    "estudiantes.loc[\"Marcos\"] = nuevo_elemento.split(\",\")\n",
    "estudiantes"
   ]
  },
  {
   "cell_type": "code",
   "execution_count": 75,
   "metadata": {},
   "outputs": [
    {
     "data": {
      "text/plain": [
       "Campo 1    Registro 5\n",
       "Campo 3      González\n",
       "Campo 4       2233434\n",
       "Campo 5            29\n",
       "Name: Marcos, dtype: object"
      ]
     },
     "execution_count": 75,
     "metadata": {},
     "output_type": "execute_result"
    }
   ],
   "source": [
    "estudiantes.iloc[-1] "
   ]
  },
  {
   "cell_type": "code",
   "execution_count": 76,
   "metadata": {},
   "outputs": [
    {
     "data": {
      "text/plain": [
       "('ronal_leiva', '@', 'hotmail.com')"
      ]
     },
     "execution_count": 76,
     "metadata": {},
     "output_type": "execute_result"
    }
   ],
   "source": [
    "\"ronal_leiva@hotmail.com\".partition(\"@\")"
   ]
  },
  {
   "cell_type": "code",
   "execution_count": 77,
   "metadata": {},
   "outputs": [
    {
     "data": {
      "text/html": [
       "<div>\n",
       "<style scoped>\n",
       "    .dataframe tbody tr th:only-of-type {\n",
       "        vertical-align: middle;\n",
       "    }\n",
       "\n",
       "    .dataframe tbody tr th {\n",
       "        vertical-align: top;\n",
       "    }\n",
       "\n",
       "    .dataframe thead th {\n",
       "        text-align: right;\n",
       "    }\n",
       "</style>\n",
       "<table border=\"1\" class=\"dataframe\">\n",
       "  <thead>\n",
       "    <tr style=\"text-align: right;\">\n",
       "      <th></th>\n",
       "      <th>Campo 1</th>\n",
       "      <th>Campo 3</th>\n",
       "      <th>Campo 4</th>\n",
       "      <th>Campo 5</th>\n",
       "    </tr>\n",
       "    <tr>\n",
       "      <th>campo_2</th>\n",
       "      <th></th>\n",
       "      <th></th>\n",
       "      <th></th>\n",
       "      <th></th>\n",
       "    </tr>\n",
       "  </thead>\n",
       "  <tbody>\n",
       "    <tr>\n",
       "      <th>Luis</th>\n",
       "      <td>Registro 3</td>\n",
       "      <td>Oca</td>\n",
       "      <td>971298</td>\n",
       "      <td>NaN</td>\n",
       "    </tr>\n",
       "    <tr>\n",
       "      <th>Pedro</th>\n",
       "      <td>Registro 4</td>\n",
       "      <td>Ramírez</td>\n",
       "      <td>123098</td>\n",
       "      <td>NaN</td>\n",
       "    </tr>\n",
       "    <tr>\n",
       "      <th>Marcos</th>\n",
       "      <td>Registro 5</td>\n",
       "      <td>González</td>\n",
       "      <td>2233434</td>\n",
       "      <td>29</td>\n",
       "    </tr>\n",
       "  </tbody>\n",
       "</table>\n",
       "</div>"
      ],
      "text/plain": [
       "            Campo 1    Campo 3   Campo 4 Campo 5\n",
       "campo_2                                         \n",
       "Luis     Registro 3        Oca    971298     NaN\n",
       "Pedro    Registro 4    Ramírez    123098     NaN\n",
       "Marcos   Registro 5   González   2233434      29"
      ]
     },
     "execution_count": 77,
     "metadata": {},
     "output_type": "execute_result"
    }
   ],
   "source": [
    "# Visualizar encabezado y cola\n",
    "\n",
    "#estudiantes.head(8) \n",
    "estudiantes.tail(3)"
   ]
  },
  {
   "cell_type": "code",
   "execution_count": 78,
   "metadata": {},
   "outputs": [
    {
     "data": {
      "text/html": [
       "<div>\n",
       "<style scoped>\n",
       "    .dataframe tbody tr th:only-of-type {\n",
       "        vertical-align: middle;\n",
       "    }\n",
       "\n",
       "    .dataframe tbody tr th {\n",
       "        vertical-align: top;\n",
       "    }\n",
       "\n",
       "    .dataframe thead th {\n",
       "        text-align: right;\n",
       "    }\n",
       "</style>\n",
       "<table border=\"1\" class=\"dataframe\">\n",
       "  <thead>\n",
       "    <tr style=\"text-align: right;\">\n",
       "      <th></th>\n",
       "      <th>Campo 1</th>\n",
       "      <th>Campo 3</th>\n",
       "      <th>Campo 4</th>\n",
       "      <th>Campo 5</th>\n",
       "    </tr>\n",
       "    <tr>\n",
       "      <th>campo_2</th>\n",
       "      <th></th>\n",
       "      <th></th>\n",
       "      <th></th>\n",
       "      <th></th>\n",
       "    </tr>\n",
       "  </thead>\n",
       "  <tbody>\n",
       "    <tr>\n",
       "      <th>Hugo</th>\n",
       "      <td>Registro 1</td>\n",
       "      <td>López</td>\n",
       "      <td>123455</td>\n",
       "      <td>20.0</td>\n",
       "    </tr>\n",
       "    <tr>\n",
       "      <th>Paco</th>\n",
       "      <td>Registro 2</td>\n",
       "      <td>Silva</td>\n",
       "      <td>736923</td>\n",
       "      <td>35.0</td>\n",
       "    </tr>\n",
       "    <tr>\n",
       "      <th>Luis</th>\n",
       "      <td>Registro 3</td>\n",
       "      <td>Oca</td>\n",
       "      <td>971298</td>\n",
       "      <td>NaN</td>\n",
       "    </tr>\n",
       "    <tr>\n",
       "      <th>Pedro</th>\n",
       "      <td>Registro 4</td>\n",
       "      <td>Ramírez</td>\n",
       "      <td>123098</td>\n",
       "      <td>NaN</td>\n",
       "    </tr>\n",
       "    <tr>\n",
       "      <th>Marcos</th>\n",
       "      <td>Registro 5</td>\n",
       "      <td>González</td>\n",
       "      <td>2233434</td>\n",
       "      <td>29.0</td>\n",
       "    </tr>\n",
       "  </tbody>\n",
       "</table>\n",
       "</div>"
      ],
      "text/plain": [
       "            Campo 1    Campo 3   Campo 4  Campo 5\n",
       "campo_2                                          \n",
       "Hugo     Registro 1      López    123455     20.0\n",
       "Paco     Registro 2      Silva    736923     35.0\n",
       "Luis     Registro 3        Oca    971298      NaN\n",
       "Pedro    Registro 4    Ramírez    123098      NaN\n",
       "Marcos   Registro 5   González   2233434     29.0"
      ]
     },
     "execution_count": 78,
     "metadata": {},
     "output_type": "execute_result"
    }
   ],
   "source": [
    "# Convierto los datos de toda una columna en numerico y con decimales\n",
    "estudiantes[\"Campo 5\"] = pd.to_numeric(estudiantes[\"Campo 5\"], downcast = \"float\")\n",
    "estudiantes"
   ]
  },
  {
   "cell_type": "code",
   "execution_count": 79,
   "metadata": {},
   "outputs": [
    {
     "data": {
      "text/plain": [
       "28.0"
      ]
     },
     "execution_count": 79,
     "metadata": {},
     "output_type": "execute_result"
    }
   ],
   "source": [
    "estudiantes[\"Campo 5\"].mean()"
   ]
  },
  {
   "cell_type": "code",
   "execution_count": 80,
   "metadata": {},
   "outputs": [
    {
     "data": {
      "text/plain": [
       "20.0    1\n",
       "35.0    1\n",
       "29.0    1\n",
       "Name: Campo 5, dtype: int64"
      ]
     },
     "execution_count": 80,
     "metadata": {},
     "output_type": "execute_result"
    }
   ],
   "source": [
    "estudiantes[\"Campo 5\"].value_counts()"
   ]
  },
  {
   "cell_type": "code",
   "execution_count": 81,
   "metadata": {},
   "outputs": [
    {
     "data": {
      "text/html": [
       "<div>\n",
       "<style scoped>\n",
       "    .dataframe tbody tr th:only-of-type {\n",
       "        vertical-align: middle;\n",
       "    }\n",
       "\n",
       "    .dataframe tbody tr th {\n",
       "        vertical-align: top;\n",
       "    }\n",
       "\n",
       "    .dataframe thead th {\n",
       "        text-align: right;\n",
       "    }\n",
       "</style>\n",
       "<table border=\"1\" class=\"dataframe\">\n",
       "  <thead>\n",
       "    <tr style=\"text-align: right;\">\n",
       "      <th></th>\n",
       "      <th>Campo 1</th>\n",
       "      <th>Campo 3</th>\n",
       "      <th>Campo 4</th>\n",
       "      <th>Campo 5</th>\n",
       "    </tr>\n",
       "    <tr>\n",
       "      <th>campo_2</th>\n",
       "      <th></th>\n",
       "      <th></th>\n",
       "      <th></th>\n",
       "      <th></th>\n",
       "    </tr>\n",
       "  </thead>\n",
       "  <tbody>\n",
       "    <tr>\n",
       "      <th>Hugo</th>\n",
       "      <td>Registro 1</td>\n",
       "      <td>López</td>\n",
       "      <td>123455</td>\n",
       "      <td>20.0</td>\n",
       "    </tr>\n",
       "    <tr>\n",
       "      <th>Paco</th>\n",
       "      <td>Registro 2</td>\n",
       "      <td>Silva</td>\n",
       "      <td>736923</td>\n",
       "      <td>35.0</td>\n",
       "    </tr>\n",
       "    <tr>\n",
       "      <th>Luis</th>\n",
       "      <td>Registro 3</td>\n",
       "      <td>Oca</td>\n",
       "      <td>971298</td>\n",
       "      <td>NaN</td>\n",
       "    </tr>\n",
       "    <tr>\n",
       "      <th>Pedro</th>\n",
       "      <td>Registro 4</td>\n",
       "      <td>Ramírez</td>\n",
       "      <td>123098</td>\n",
       "      <td>NaN</td>\n",
       "    </tr>\n",
       "    <tr>\n",
       "      <th>Marcos</th>\n",
       "      <td>Registro 5</td>\n",
       "      <td>González</td>\n",
       "      <td>2233434</td>\n",
       "      <td>29.0</td>\n",
       "    </tr>\n",
       "    <tr>\n",
       "      <th>Jennifer</th>\n",
       "      <td>Registro 6</td>\n",
       "      <td>Ramírez</td>\n",
       "      <td>777222</td>\n",
       "      <td>30.0</td>\n",
       "    </tr>\n",
       "  </tbody>\n",
       "</table>\n",
       "</div>"
      ],
      "text/plain": [
       "             Campo 1    Campo 3   Campo 4  Campo 5\n",
       "campo_2                                           \n",
       "Hugo      Registro 1      López    123455     20.0\n",
       "Paco      Registro 2      Silva    736923     35.0\n",
       "Luis      Registro 3        Oca    971298      NaN\n",
       "Pedro     Registro 4    Ramírez    123098      NaN\n",
       "Marcos    Registro 5   González   2233434     29.0\n",
       "Jennifer  Registro 6    Ramírez    777222     30.0"
      ]
     },
     "execution_count": 81,
     "metadata": {},
     "output_type": "execute_result"
    }
   ],
   "source": [
    "estudiantes.loc[\"Jennifer\"] = [\"Registro 6\",\"Ramírez\",\"777222\",30]\n",
    "estudiantes"
   ]
  },
  {
   "cell_type": "code",
   "execution_count": 82,
   "metadata": {},
   "outputs": [
    {
     "data": {
      "text/plain": [
       "Ramírez      2\n",
       "López        1\n",
       "Silva        1\n",
       "Oca          1\n",
       " González    1\n",
       "Name: Campo 3, dtype: int64"
      ]
     },
     "execution_count": 82,
     "metadata": {},
     "output_type": "execute_result"
    }
   ],
   "source": [
    "estudiantes[\"Campo 3\"].value_counts()"
   ]
  },
  {
   "cell_type": "code",
   "execution_count": 83,
   "metadata": {},
   "outputs": [
    {
     "data": {
      "text/html": [
       "<div>\n",
       "<style scoped>\n",
       "    .dataframe tbody tr th:only-of-type {\n",
       "        vertical-align: middle;\n",
       "    }\n",
       "\n",
       "    .dataframe tbody tr th {\n",
       "        vertical-align: top;\n",
       "    }\n",
       "\n",
       "    .dataframe thead th {\n",
       "        text-align: right;\n",
       "    }\n",
       "</style>\n",
       "<table border=\"1\" class=\"dataframe\">\n",
       "  <thead>\n",
       "    <tr style=\"text-align: right;\">\n",
       "      <th></th>\n",
       "      <th>Campo 1</th>\n",
       "      <th>Campo 3</th>\n",
       "      <th>Campo 4</th>\n",
       "      <th>Campo 5</th>\n",
       "    </tr>\n",
       "    <tr>\n",
       "      <th>campo_2</th>\n",
       "      <th></th>\n",
       "      <th></th>\n",
       "      <th></th>\n",
       "      <th></th>\n",
       "    </tr>\n",
       "  </thead>\n",
       "  <tbody>\n",
       "    <tr>\n",
       "      <th>Paco</th>\n",
       "      <td>Registro 2</td>\n",
       "      <td>Silva</td>\n",
       "      <td>736923</td>\n",
       "      <td>35.0</td>\n",
       "    </tr>\n",
       "    <tr>\n",
       "      <th>Jennifer</th>\n",
       "      <td>Registro 6</td>\n",
       "      <td>Ramírez</td>\n",
       "      <td>777222</td>\n",
       "      <td>30.0</td>\n",
       "    </tr>\n",
       "    <tr>\n",
       "      <th>Marcos</th>\n",
       "      <td>Registro 5</td>\n",
       "      <td>González</td>\n",
       "      <td>2233434</td>\n",
       "      <td>29.0</td>\n",
       "    </tr>\n",
       "    <tr>\n",
       "      <th>Hugo</th>\n",
       "      <td>Registro 1</td>\n",
       "      <td>López</td>\n",
       "      <td>123455</td>\n",
       "      <td>20.0</td>\n",
       "    </tr>\n",
       "    <tr>\n",
       "      <th>Luis</th>\n",
       "      <td>Registro 3</td>\n",
       "      <td>Oca</td>\n",
       "      <td>971298</td>\n",
       "      <td>NaN</td>\n",
       "    </tr>\n",
       "    <tr>\n",
       "      <th>Pedro</th>\n",
       "      <td>Registro 4</td>\n",
       "      <td>Ramírez</td>\n",
       "      <td>123098</td>\n",
       "      <td>NaN</td>\n",
       "    </tr>\n",
       "  </tbody>\n",
       "</table>\n",
       "</div>"
      ],
      "text/plain": [
       "             Campo 1    Campo 3   Campo 4  Campo 5\n",
       "campo_2                                           \n",
       "Paco      Registro 2      Silva    736923     35.0\n",
       "Jennifer  Registro 6    Ramírez    777222     30.0\n",
       "Marcos    Registro 5   González   2233434     29.0\n",
       "Hugo      Registro 1      López    123455     20.0\n",
       "Luis      Registro 3        Oca    971298      NaN\n",
       "Pedro     Registro 4    Ramírez    123098      NaN"
      ]
     },
     "execution_count": 83,
     "metadata": {},
     "output_type": "execute_result"
    }
   ],
   "source": [
    "# Ordenar en base a una columna y en orden descendente\n",
    "\n",
    "estudiantes.sort_values(by = \"Campo 5\",inplace = True, ascending=False)\n",
    "estudiantes"
   ]
  },
  {
   "cell_type": "code",
   "execution_count": 84,
   "metadata": {},
   "outputs": [
    {
     "data": {
      "text/plain": [
       "28"
      ]
     },
     "execution_count": 84,
     "metadata": {},
     "output_type": "execute_result"
    }
   ],
   "source": [
    "# Calculo del promedio\n",
    "\n",
    "edad_media = estudiantes[\"Campo 5\"].mean()\n",
    "int(edad_media)"
   ]
  },
  {
   "cell_type": "code",
   "execution_count": 85,
   "metadata": {},
   "outputs": [
    {
     "data": {
      "text/html": [
       "<div>\n",
       "<style scoped>\n",
       "    .dataframe tbody tr th:only-of-type {\n",
       "        vertical-align: middle;\n",
       "    }\n",
       "\n",
       "    .dataframe tbody tr th {\n",
       "        vertical-align: top;\n",
       "    }\n",
       "\n",
       "    .dataframe thead th {\n",
       "        text-align: right;\n",
       "    }\n",
       "</style>\n",
       "<table border=\"1\" class=\"dataframe\">\n",
       "  <thead>\n",
       "    <tr style=\"text-align: right;\">\n",
       "      <th></th>\n",
       "      <th>Campo 1</th>\n",
       "      <th>Campo 3</th>\n",
       "      <th>Campo 4</th>\n",
       "      <th>Campo 5</th>\n",
       "    </tr>\n",
       "    <tr>\n",
       "      <th>campo_2</th>\n",
       "      <th></th>\n",
       "      <th></th>\n",
       "      <th></th>\n",
       "      <th></th>\n",
       "    </tr>\n",
       "  </thead>\n",
       "  <tbody>\n",
       "    <tr>\n",
       "      <th>Paco</th>\n",
       "      <td>Registro 2</td>\n",
       "      <td>Silva</td>\n",
       "      <td>736923</td>\n",
       "      <td>35.0</td>\n",
       "    </tr>\n",
       "    <tr>\n",
       "      <th>Jennifer</th>\n",
       "      <td>Registro 6</td>\n",
       "      <td>Ramírez</td>\n",
       "      <td>777222</td>\n",
       "      <td>30.0</td>\n",
       "    </tr>\n",
       "    <tr>\n",
       "      <th>Marcos</th>\n",
       "      <td>Registro 5</td>\n",
       "      <td>González</td>\n",
       "      <td>2233434</td>\n",
       "      <td>29.0</td>\n",
       "    </tr>\n",
       "    <tr>\n",
       "      <th>Hugo</th>\n",
       "      <td>Registro 1</td>\n",
       "      <td>López</td>\n",
       "      <td>123455</td>\n",
       "      <td>20.0</td>\n",
       "    </tr>\n",
       "    <tr>\n",
       "      <th>Luis</th>\n",
       "      <td>Registro 3</td>\n",
       "      <td>Oca</td>\n",
       "      <td>971298</td>\n",
       "      <td>28.0</td>\n",
       "    </tr>\n",
       "    <tr>\n",
       "      <th>Pedro</th>\n",
       "      <td>Registro 4</td>\n",
       "      <td>Ramírez</td>\n",
       "      <td>123098</td>\n",
       "      <td>28.0</td>\n",
       "    </tr>\n",
       "  </tbody>\n",
       "</table>\n",
       "</div>"
      ],
      "text/plain": [
       "             Campo 1    Campo 3   Campo 4  Campo 5\n",
       "campo_2                                           \n",
       "Paco      Registro 2      Silva    736923     35.0\n",
       "Jennifer  Registro 6    Ramírez    777222     30.0\n",
       "Marcos    Registro 5   González   2233434     29.0\n",
       "Hugo      Registro 1      López    123455     20.0\n",
       "Luis      Registro 3        Oca    971298     28.0\n",
       "Pedro     Registro 4    Ramírez    123098     28.0"
      ]
     },
     "execution_count": 85,
     "metadata": {},
     "output_type": "execute_result"
    }
   ],
   "source": [
    "# Estoy reemplazando los NaN con un dato, en este caso con la media\n",
    "estudiantes[\"Campo 5\"].fillna(int(edad_media),inplace = True)\n",
    "estudiantes"
   ]
  },
  {
   "cell_type": "code",
   "execution_count": 86,
   "metadata": {},
   "outputs": [
    {
     "data": {
      "text/html": [
       "<div>\n",
       "<style scoped>\n",
       "    .dataframe tbody tr th:only-of-type {\n",
       "        vertical-align: middle;\n",
       "    }\n",
       "\n",
       "    .dataframe tbody tr th {\n",
       "        vertical-align: top;\n",
       "    }\n",
       "\n",
       "    .dataframe thead th {\n",
       "        text-align: right;\n",
       "    }\n",
       "</style>\n",
       "<table border=\"1\" class=\"dataframe\">\n",
       "  <thead>\n",
       "    <tr style=\"text-align: right;\">\n",
       "      <th></th>\n",
       "      <th>Campo 1</th>\n",
       "      <th>Campo 3</th>\n",
       "      <th>Campo 4</th>\n",
       "      <th>Campo 5</th>\n",
       "    </tr>\n",
       "    <tr>\n",
       "      <th>campo_2</th>\n",
       "      <th></th>\n",
       "      <th></th>\n",
       "      <th></th>\n",
       "      <th></th>\n",
       "    </tr>\n",
       "  </thead>\n",
       "  <tbody>\n",
       "    <tr>\n",
       "      <th>Marcos</th>\n",
       "      <td>Registro 5</td>\n",
       "      <td>González</td>\n",
       "      <td>2233434</td>\n",
       "      <td>29.0</td>\n",
       "    </tr>\n",
       "    <tr>\n",
       "      <th>Hugo</th>\n",
       "      <td>Registro 1</td>\n",
       "      <td>López</td>\n",
       "      <td>123455</td>\n",
       "      <td>20.0</td>\n",
       "    </tr>\n",
       "    <tr>\n",
       "      <th>Luis</th>\n",
       "      <td>Registro 3</td>\n",
       "      <td>Oca</td>\n",
       "      <td>971298</td>\n",
       "      <td>28.0</td>\n",
       "    </tr>\n",
       "    <tr>\n",
       "      <th>Jennifer</th>\n",
       "      <td>Registro 6</td>\n",
       "      <td>Ramírez</td>\n",
       "      <td>777222</td>\n",
       "      <td>30.0</td>\n",
       "    </tr>\n",
       "    <tr>\n",
       "      <th>Pedro</th>\n",
       "      <td>Registro 4</td>\n",
       "      <td>Ramírez</td>\n",
       "      <td>123098</td>\n",
       "      <td>28.0</td>\n",
       "    </tr>\n",
       "    <tr>\n",
       "      <th>Paco</th>\n",
       "      <td>Registro 2</td>\n",
       "      <td>Silva</td>\n",
       "      <td>736923</td>\n",
       "      <td>35.0</td>\n",
       "    </tr>\n",
       "  </tbody>\n",
       "</table>\n",
       "</div>"
      ],
      "text/plain": [
       "             Campo 1    Campo 3   Campo 4  Campo 5\n",
       "campo_2                                           \n",
       "Marcos    Registro 5   González   2233434     29.0\n",
       "Hugo      Registro 1      López    123455     20.0\n",
       "Luis      Registro 3        Oca    971298     28.0\n",
       "Jennifer  Registro 6    Ramírez    777222     30.0\n",
       "Pedro     Registro 4    Ramírez    123098     28.0\n",
       "Paco      Registro 2      Silva    736923     35.0"
      ]
     },
     "execution_count": 86,
     "metadata": {},
     "output_type": "execute_result"
    }
   ],
   "source": [
    "# Ordenamiento con respecto a 2 columnas\n",
    "\n",
    "estudiantes.sort_values(by = [\"Campo 3\",\"Campo 5\"], ascending = [True,False], inplace = True)\n",
    "estudiantes"
   ]
  },
  {
   "cell_type": "code",
   "execution_count": 87,
   "metadata": {},
   "outputs": [
    {
     "data": {
      "text/html": [
       "<div>\n",
       "<style scoped>\n",
       "    .dataframe tbody tr th:only-of-type {\n",
       "        vertical-align: middle;\n",
       "    }\n",
       "\n",
       "    .dataframe tbody tr th {\n",
       "        vertical-align: top;\n",
       "    }\n",
       "\n",
       "    .dataframe thead th {\n",
       "        text-align: right;\n",
       "    }\n",
       "</style>\n",
       "<table border=\"1\" class=\"dataframe\">\n",
       "  <thead>\n",
       "    <tr style=\"text-align: right;\">\n",
       "      <th></th>\n",
       "      <th>Campo 1</th>\n",
       "      <th>Campo 3</th>\n",
       "      <th>Campo 4</th>\n",
       "      <th>Campo 5</th>\n",
       "    </tr>\n",
       "    <tr>\n",
       "      <th>campo_2</th>\n",
       "      <th></th>\n",
       "      <th></th>\n",
       "      <th></th>\n",
       "      <th></th>\n",
       "    </tr>\n",
       "  </thead>\n",
       "  <tbody>\n",
       "    <tr>\n",
       "      <th>Jennifer</th>\n",
       "      <td>Registro 6</td>\n",
       "      <td>Ramírez</td>\n",
       "      <td>777222</td>\n",
       "      <td>30.0</td>\n",
       "    </tr>\n",
       "    <tr>\n",
       "      <th>Pedro</th>\n",
       "      <td>Registro 4</td>\n",
       "      <td>Ramírez</td>\n",
       "      <td>123098</td>\n",
       "      <td>28.0</td>\n",
       "    </tr>\n",
       "  </tbody>\n",
       "</table>\n",
       "</div>"
      ],
      "text/plain": [
       "             Campo 1  Campo 3 Campo 4  Campo 5\n",
       "campo_2                                       \n",
       "Jennifer  Registro 6  Ramírez  777222     30.0\n",
       "Pedro     Registro 4  Ramírez  123098     28.0"
      ]
     },
     "execution_count": 87,
     "metadata": {},
     "output_type": "execute_result"
    }
   ],
   "source": [
    "# Filtrar los estudiantes de apellido Ramírez\n",
    "estudiantes[estudiantes[\"Campo 3\"] == \"Ramírez\"]"
   ]
  },
  {
   "cell_type": "code",
   "execution_count": 88,
   "metadata": {},
   "outputs": [
    {
     "data": {
      "text/html": [
       "<div>\n",
       "<style scoped>\n",
       "    .dataframe tbody tr th:only-of-type {\n",
       "        vertical-align: middle;\n",
       "    }\n",
       "\n",
       "    .dataframe tbody tr th {\n",
       "        vertical-align: top;\n",
       "    }\n",
       "\n",
       "    .dataframe thead th {\n",
       "        text-align: right;\n",
       "    }\n",
       "</style>\n",
       "<table border=\"1\" class=\"dataframe\">\n",
       "  <thead>\n",
       "    <tr style=\"text-align: right;\">\n",
       "      <th></th>\n",
       "      <th>Campo 1</th>\n",
       "      <th>Campo 3</th>\n",
       "      <th>Campo 4</th>\n",
       "      <th>Campo 5</th>\n",
       "    </tr>\n",
       "    <tr>\n",
       "      <th>campo_2</th>\n",
       "      <th></th>\n",
       "      <th></th>\n",
       "      <th></th>\n",
       "      <th></th>\n",
       "    </tr>\n",
       "  </thead>\n",
       "  <tbody>\n",
       "    <tr>\n",
       "      <th>Marcos</th>\n",
       "      <td>Registro 5</td>\n",
       "      <td>GONZÁLEZ</td>\n",
       "      <td>2233434</td>\n",
       "      <td>29.0</td>\n",
       "    </tr>\n",
       "    <tr>\n",
       "      <th>Hugo</th>\n",
       "      <td>Registro 1</td>\n",
       "      <td>LÓPEZ</td>\n",
       "      <td>123455</td>\n",
       "      <td>20.0</td>\n",
       "    </tr>\n",
       "    <tr>\n",
       "      <th>Luis</th>\n",
       "      <td>Registro 3</td>\n",
       "      <td>OCA</td>\n",
       "      <td>971298</td>\n",
       "      <td>28.0</td>\n",
       "    </tr>\n",
       "    <tr>\n",
       "      <th>Jennifer</th>\n",
       "      <td>Registro 6</td>\n",
       "      <td>RAMÍREZ</td>\n",
       "      <td>777222</td>\n",
       "      <td>30.0</td>\n",
       "    </tr>\n",
       "    <tr>\n",
       "      <th>Pedro</th>\n",
       "      <td>Registro 4</td>\n",
       "      <td>RAMÍREZ</td>\n",
       "      <td>123098</td>\n",
       "      <td>28.0</td>\n",
       "    </tr>\n",
       "    <tr>\n",
       "      <th>Paco</th>\n",
       "      <td>Registro 2</td>\n",
       "      <td>SILVA</td>\n",
       "      <td>736923</td>\n",
       "      <td>35.0</td>\n",
       "    </tr>\n",
       "  </tbody>\n",
       "</table>\n",
       "</div>"
      ],
      "text/plain": [
       "             Campo 1    Campo 3   Campo 4  Campo 5\n",
       "campo_2                                           \n",
       "Marcos    Registro 5   GONZÁLEZ   2233434     29.0\n",
       "Hugo      Registro 1      LÓPEZ    123455     20.0\n",
       "Luis      Registro 3        OCA    971298     28.0\n",
       "Jennifer  Registro 6    RAMÍREZ    777222     30.0\n",
       "Pedro     Registro 4    RAMÍREZ    123098     28.0\n",
       "Paco      Registro 2      SILVA    736923     35.0"
      ]
     },
     "execution_count": 88,
     "metadata": {},
     "output_type": "execute_result"
    }
   ],
   "source": [
    "# Función vectorizada de UPPER es str.upper \n",
    "\n",
    "estudiantes[\"Campo 3\"] = estudiantes[\"Campo 3\"].str.upper()\n",
    "estudiantes"
   ]
  },
  {
   "cell_type": "code",
   "execution_count": 89,
   "metadata": {},
   "outputs": [
    {
     "data": {
      "text/plain": [
       "campo_2\n",
       "Marcos      8\n",
       "Hugo        6\n",
       "Luis        6\n",
       "Jennifer    6\n",
       "Pedro       6\n",
       "Paco        6\n",
       "Name: Campo 4, dtype: int64"
      ]
     },
     "execution_count": 89,
     "metadata": {},
     "output_type": "execute_result"
    }
   ],
   "source": [
    "# Funcion vectorizada que devulve el largo de los elementos de una columna\n",
    "estudiantes[\"Campo 4\"].str.len()"
   ]
  },
  {
   "cell_type": "code",
   "execution_count": 90,
   "metadata": {},
   "outputs": [
    {
     "data": {
      "text/html": [
       "<div>\n",
       "<style scoped>\n",
       "    .dataframe tbody tr th:only-of-type {\n",
       "        vertical-align: middle;\n",
       "    }\n",
       "\n",
       "    .dataframe tbody tr th {\n",
       "        vertical-align: top;\n",
       "    }\n",
       "\n",
       "    .dataframe thead th {\n",
       "        text-align: right;\n",
       "    }\n",
       "</style>\n",
       "<table border=\"1\" class=\"dataframe\">\n",
       "  <thead>\n",
       "    <tr style=\"text-align: right;\">\n",
       "      <th></th>\n",
       "      <th>Campo 1</th>\n",
       "      <th>Campo 3</th>\n",
       "      <th>Campo 4</th>\n",
       "      <th>Campo 5</th>\n",
       "      <th>Estado</th>\n",
       "    </tr>\n",
       "    <tr>\n",
       "      <th>campo_2</th>\n",
       "      <th></th>\n",
       "      <th></th>\n",
       "      <th></th>\n",
       "      <th></th>\n",
       "      <th></th>\n",
       "    </tr>\n",
       "  </thead>\n",
       "  <tbody>\n",
       "    <tr>\n",
       "      <th>Marcos</th>\n",
       "      <td>Registro 5</td>\n",
       "      <td>GONZÁLEZ</td>\n",
       "      <td>2233434</td>\n",
       "      <td>29.0</td>\n",
       "      <td>Activo</td>\n",
       "    </tr>\n",
       "    <tr>\n",
       "      <th>Hugo</th>\n",
       "      <td>Registro 1</td>\n",
       "      <td>LÓPEZ</td>\n",
       "      <td>123455</td>\n",
       "      <td>20.0</td>\n",
       "      <td>Baja</td>\n",
       "    </tr>\n",
       "    <tr>\n",
       "      <th>Luis</th>\n",
       "      <td>Registro 3</td>\n",
       "      <td>OCA</td>\n",
       "      <td>971298</td>\n",
       "      <td>28.0</td>\n",
       "      <td>Baja</td>\n",
       "    </tr>\n",
       "    <tr>\n",
       "      <th>Jennifer</th>\n",
       "      <td>Registro 6</td>\n",
       "      <td>RAMÍREZ</td>\n",
       "      <td>777222</td>\n",
       "      <td>30.0</td>\n",
       "      <td>Graduado</td>\n",
       "    </tr>\n",
       "    <tr>\n",
       "      <th>Pedro</th>\n",
       "      <td>Registro 4</td>\n",
       "      <td>RAMÍREZ</td>\n",
       "      <td>123098</td>\n",
       "      <td>28.0</td>\n",
       "      <td>Activo</td>\n",
       "    </tr>\n",
       "    <tr>\n",
       "      <th>Paco</th>\n",
       "      <td>Registro 2</td>\n",
       "      <td>SILVA</td>\n",
       "      <td>736923</td>\n",
       "      <td>35.0</td>\n",
       "      <td>Activo</td>\n",
       "    </tr>\n",
       "    <tr>\n",
       "      <th>Peter</th>\n",
       "      <td>Registro 7</td>\n",
       "      <td>González</td>\n",
       "      <td>536271</td>\n",
       "      <td>23.0</td>\n",
       "      <td>Baja</td>\n",
       "    </tr>\n",
       "  </tbody>\n",
       "</table>\n",
       "</div>"
      ],
      "text/plain": [
       "             Campo 1    Campo 3   Campo 4  Campo 5    Estado\n",
       "campo_2                                                     \n",
       "Marcos    Registro 5   GONZÁLEZ   2233434     29.0    Activo\n",
       "Hugo      Registro 1      LÓPEZ    123455     20.0      Baja\n",
       "Luis      Registro 3        OCA    971298     28.0      Baja\n",
       "Jennifer  Registro 6    RAMÍREZ    777222     30.0  Graduado\n",
       "Pedro     Registro 4    RAMÍREZ    123098     28.0    Activo\n",
       "Paco      Registro 2      SILVA    736923     35.0    Activo\n",
       "Peter     Registro 7   González    536271     23.0      Baja"
      ]
     },
     "execution_count": 90,
     "metadata": {},
     "output_type": "execute_result"
    }
   ],
   "source": [
    "# Agrego una linea de datos extra\n",
    "# Agrego una columna estado\n",
    "\n",
    "estudiantes.loc[\"Peter\"] = [\"Registro 7\",\"González\",\"536271\",23]\n",
    "estudiantes[\"Estado\"] = [\"Activo\",\"Baja\",\"Baja\",\"Graduado\",\"Activo\",\"Activo\",\"Baja\"]\n",
    "\n",
    "estudiantes"
   ]
  },
  {
   "cell_type": "code",
   "execution_count": 91,
   "metadata": {},
   "outputs": [
    {
     "data": {
      "text/html": [
       "<div>\n",
       "<style scoped>\n",
       "    .dataframe tbody tr th:only-of-type {\n",
       "        vertical-align: middle;\n",
       "    }\n",
       "\n",
       "    .dataframe tbody tr th {\n",
       "        vertical-align: top;\n",
       "    }\n",
       "\n",
       "    .dataframe thead th {\n",
       "        text-align: right;\n",
       "    }\n",
       "</style>\n",
       "<table border=\"1\" class=\"dataframe\">\n",
       "  <thead>\n",
       "    <tr style=\"text-align: right;\">\n",
       "      <th></th>\n",
       "      <th>Activo</th>\n",
       "      <th>Baja</th>\n",
       "      <th>Graduado</th>\n",
       "    </tr>\n",
       "    <tr>\n",
       "      <th>campo_2</th>\n",
       "      <th></th>\n",
       "      <th></th>\n",
       "      <th></th>\n",
       "    </tr>\n",
       "  </thead>\n",
       "  <tbody>\n",
       "    <tr>\n",
       "      <th>Marcos</th>\n",
       "      <td>1</td>\n",
       "      <td>0</td>\n",
       "      <td>0</td>\n",
       "    </tr>\n",
       "    <tr>\n",
       "      <th>Hugo</th>\n",
       "      <td>0</td>\n",
       "      <td>1</td>\n",
       "      <td>0</td>\n",
       "    </tr>\n",
       "    <tr>\n",
       "      <th>Luis</th>\n",
       "      <td>0</td>\n",
       "      <td>1</td>\n",
       "      <td>0</td>\n",
       "    </tr>\n",
       "    <tr>\n",
       "      <th>Jennifer</th>\n",
       "      <td>0</td>\n",
       "      <td>0</td>\n",
       "      <td>1</td>\n",
       "    </tr>\n",
       "    <tr>\n",
       "      <th>Pedro</th>\n",
       "      <td>1</td>\n",
       "      <td>0</td>\n",
       "      <td>0</td>\n",
       "    </tr>\n",
       "    <tr>\n",
       "      <th>Paco</th>\n",
       "      <td>1</td>\n",
       "      <td>0</td>\n",
       "      <td>0</td>\n",
       "    </tr>\n",
       "    <tr>\n",
       "      <th>Peter</th>\n",
       "      <td>0</td>\n",
       "      <td>1</td>\n",
       "      <td>0</td>\n",
       "    </tr>\n",
       "  </tbody>\n",
       "</table>\n",
       "</div>"
      ],
      "text/plain": [
       "          Activo  Baja  Graduado\n",
       "campo_2                         \n",
       "Marcos         1     0         0\n",
       "Hugo           0     1         0\n",
       "Luis           0     1         0\n",
       "Jennifer       0     0         1\n",
       "Pedro          1     0         0\n",
       "Paco           1     0         0\n",
       "Peter          0     1         0"
      ]
     },
     "execution_count": 91,
     "metadata": {},
     "output_type": "execute_result"
    }
   ],
   "source": [
    "# Crea una columna por cada valor diferente de una columna elejida \n",
    "# y muestra cual es el estado asignnado un 1, sirve en regresiones logísticas\n",
    "\n",
    "pd.get_dummies(estudiantes[\"Estado\"])"
   ]
  },
  {
   "cell_type": "code",
   "execution_count": 92,
   "metadata": {},
   "outputs": [
    {
     "data": {
      "text/html": [
       "<div>\n",
       "<style scoped>\n",
       "    .dataframe tbody tr th:only-of-type {\n",
       "        vertical-align: middle;\n",
       "    }\n",
       "\n",
       "    .dataframe tbody tr th {\n",
       "        vertical-align: top;\n",
       "    }\n",
       "\n",
       "    .dataframe thead th {\n",
       "        text-align: right;\n",
       "    }\n",
       "</style>\n",
       "<table border=\"1\" class=\"dataframe\">\n",
       "  <thead>\n",
       "    <tr style=\"text-align: right;\">\n",
       "      <th></th>\n",
       "      <th>Campo 1</th>\n",
       "      <th>Campo 3</th>\n",
       "      <th>Campo 4</th>\n",
       "      <th>Campo 5</th>\n",
       "      <th>Estado</th>\n",
       "      <th>Activo</th>\n",
       "      <th>Baja</th>\n",
       "      <th>Graduado</th>\n",
       "    </tr>\n",
       "    <tr>\n",
       "      <th>campo_2</th>\n",
       "      <th></th>\n",
       "      <th></th>\n",
       "      <th></th>\n",
       "      <th></th>\n",
       "      <th></th>\n",
       "      <th></th>\n",
       "      <th></th>\n",
       "      <th></th>\n",
       "    </tr>\n",
       "  </thead>\n",
       "  <tbody>\n",
       "    <tr>\n",
       "      <th>Marcos</th>\n",
       "      <td>Registro 5</td>\n",
       "      <td>GONZÁLEZ</td>\n",
       "      <td>2233434</td>\n",
       "      <td>29.0</td>\n",
       "      <td>Activo</td>\n",
       "      <td>1</td>\n",
       "      <td>0</td>\n",
       "      <td>0</td>\n",
       "    </tr>\n",
       "    <tr>\n",
       "      <th>Hugo</th>\n",
       "      <td>Registro 1</td>\n",
       "      <td>LÓPEZ</td>\n",
       "      <td>123455</td>\n",
       "      <td>20.0</td>\n",
       "      <td>Baja</td>\n",
       "      <td>0</td>\n",
       "      <td>1</td>\n",
       "      <td>0</td>\n",
       "    </tr>\n",
       "    <tr>\n",
       "      <th>Luis</th>\n",
       "      <td>Registro 3</td>\n",
       "      <td>OCA</td>\n",
       "      <td>971298</td>\n",
       "      <td>28.0</td>\n",
       "      <td>Baja</td>\n",
       "      <td>0</td>\n",
       "      <td>1</td>\n",
       "      <td>0</td>\n",
       "    </tr>\n",
       "    <tr>\n",
       "      <th>Jennifer</th>\n",
       "      <td>Registro 6</td>\n",
       "      <td>RAMÍREZ</td>\n",
       "      <td>777222</td>\n",
       "      <td>30.0</td>\n",
       "      <td>Graduado</td>\n",
       "      <td>0</td>\n",
       "      <td>0</td>\n",
       "      <td>1</td>\n",
       "    </tr>\n",
       "    <tr>\n",
       "      <th>Pedro</th>\n",
       "      <td>Registro 4</td>\n",
       "      <td>RAMÍREZ</td>\n",
       "      <td>123098</td>\n",
       "      <td>28.0</td>\n",
       "      <td>Activo</td>\n",
       "      <td>1</td>\n",
       "      <td>0</td>\n",
       "      <td>0</td>\n",
       "    </tr>\n",
       "    <tr>\n",
       "      <th>Paco</th>\n",
       "      <td>Registro 2</td>\n",
       "      <td>SILVA</td>\n",
       "      <td>736923</td>\n",
       "      <td>35.0</td>\n",
       "      <td>Activo</td>\n",
       "      <td>1</td>\n",
       "      <td>0</td>\n",
       "      <td>0</td>\n",
       "    </tr>\n",
       "    <tr>\n",
       "      <th>Peter</th>\n",
       "      <td>Registro 7</td>\n",
       "      <td>González</td>\n",
       "      <td>536271</td>\n",
       "      <td>23.0</td>\n",
       "      <td>Baja</td>\n",
       "      <td>0</td>\n",
       "      <td>1</td>\n",
       "      <td>0</td>\n",
       "    </tr>\n",
       "  </tbody>\n",
       "</table>\n",
       "</div>"
      ],
      "text/plain": [
       "             Campo 1    Campo 3   Campo 4  Campo 5    Estado  Activo  Baja  \\\n",
       "campo_2                                                                      \n",
       "Marcos    Registro 5   GONZÁLEZ   2233434     29.0    Activo       1     0   \n",
       "Hugo      Registro 1      LÓPEZ    123455     20.0      Baja       0     1   \n",
       "Luis      Registro 3        OCA    971298     28.0      Baja       0     1   \n",
       "Jennifer  Registro 6    RAMÍREZ    777222     30.0  Graduado       0     0   \n",
       "Pedro     Registro 4    RAMÍREZ    123098     28.0    Activo       1     0   \n",
       "Paco      Registro 2      SILVA    736923     35.0    Activo       1     0   \n",
       "Peter     Registro 7   González    536271     23.0      Baja       0     1   \n",
       "\n",
       "          Graduado  \n",
       "campo_2             \n",
       "Marcos           0  \n",
       "Hugo             0  \n",
       "Luis             0  \n",
       "Jennifer         1  \n",
       "Pedro            0  \n",
       "Paco             0  \n",
       "Peter            0  "
      ]
     },
     "execution_count": 92,
     "metadata": {},
     "output_type": "execute_result"
    }
   ],
   "source": [
    "# Con el get_dummis no se altera la tabla, crea una nueva con el contenido entonces\n",
    "# si me van a servir los datos yo los pego con concat a la tabla original\n",
    "\n",
    "Frame = pd.concat([estudiantes,pd.get_dummies(estudiantes[\"Estado\"])], axis = 1)\n",
    "Frame"
   ]
  },
  {
   "cell_type": "code",
   "execution_count": 93,
   "metadata": {},
   "outputs": [
    {
     "data": {
      "text/html": [
       "<div>\n",
       "<style scoped>\n",
       "    .dataframe tbody tr th:only-of-type {\n",
       "        vertical-align: middle;\n",
       "    }\n",
       "\n",
       "    .dataframe tbody tr th {\n",
       "        vertical-align: top;\n",
       "    }\n",
       "\n",
       "    .dataframe thead th {\n",
       "        text-align: right;\n",
       "    }\n",
       "</style>\n",
       "<table border=\"1\" class=\"dataframe\">\n",
       "  <thead>\n",
       "    <tr style=\"text-align: right;\">\n",
       "      <th></th>\n",
       "      <th>Campo 1</th>\n",
       "      <th>Campo 3</th>\n",
       "      <th>Campo 4</th>\n",
       "      <th>Campo 5</th>\n",
       "      <th>Estado</th>\n",
       "      <th>Activo</th>\n",
       "      <th>Baja</th>\n",
       "      <th>Graduado</th>\n",
       "      <th>Fac</th>\n",
       "      <th>Sexo</th>\n",
       "    </tr>\n",
       "    <tr>\n",
       "      <th>campo_2</th>\n",
       "      <th></th>\n",
       "      <th></th>\n",
       "      <th></th>\n",
       "      <th></th>\n",
       "      <th></th>\n",
       "      <th></th>\n",
       "      <th></th>\n",
       "      <th></th>\n",
       "      <th></th>\n",
       "      <th></th>\n",
       "    </tr>\n",
       "  </thead>\n",
       "  <tbody>\n",
       "    <tr>\n",
       "      <th>Marcos</th>\n",
       "      <td>Registro 5</td>\n",
       "      <td>GONZÁLEZ</td>\n",
       "      <td>2233434</td>\n",
       "      <td>29.0</td>\n",
       "      <td>Activo</td>\n",
       "      <td>1</td>\n",
       "      <td>0</td>\n",
       "      <td>0</td>\n",
       "      <td>4</td>\n",
       "      <td>1</td>\n",
       "    </tr>\n",
       "    <tr>\n",
       "      <th>Hugo</th>\n",
       "      <td>Registro 1</td>\n",
       "      <td>LÓPEZ</td>\n",
       "      <td>123455</td>\n",
       "      <td>20.0</td>\n",
       "      <td>Baja</td>\n",
       "      <td>0</td>\n",
       "      <td>1</td>\n",
       "      <td>0</td>\n",
       "      <td>3</td>\n",
       "      <td>1</td>\n",
       "    </tr>\n",
       "    <tr>\n",
       "      <th>Luis</th>\n",
       "      <td>Registro 3</td>\n",
       "      <td>OCA</td>\n",
       "      <td>971298</td>\n",
       "      <td>28.0</td>\n",
       "      <td>Baja</td>\n",
       "      <td>0</td>\n",
       "      <td>1</td>\n",
       "      <td>0</td>\n",
       "      <td>1</td>\n",
       "      <td>1</td>\n",
       "    </tr>\n",
       "    <tr>\n",
       "      <th>Jennifer</th>\n",
       "      <td>Registro 6</td>\n",
       "      <td>RAMÍREZ</td>\n",
       "      <td>777222</td>\n",
       "      <td>30.0</td>\n",
       "      <td>Graduado</td>\n",
       "      <td>0</td>\n",
       "      <td>0</td>\n",
       "      <td>1</td>\n",
       "      <td>4</td>\n",
       "      <td>0</td>\n",
       "    </tr>\n",
       "    <tr>\n",
       "      <th>Pedro</th>\n",
       "      <td>Registro 4</td>\n",
       "      <td>RAMÍREZ</td>\n",
       "      <td>123098</td>\n",
       "      <td>28.0</td>\n",
       "      <td>Activo</td>\n",
       "      <td>1</td>\n",
       "      <td>0</td>\n",
       "      <td>0</td>\n",
       "      <td>5</td>\n",
       "      <td>1</td>\n",
       "    </tr>\n",
       "    <tr>\n",
       "      <th>Paco</th>\n",
       "      <td>Registro 2</td>\n",
       "      <td>SILVA</td>\n",
       "      <td>736923</td>\n",
       "      <td>35.0</td>\n",
       "      <td>Activo</td>\n",
       "      <td>1</td>\n",
       "      <td>0</td>\n",
       "      <td>0</td>\n",
       "      <td>1</td>\n",
       "      <td>1</td>\n",
       "    </tr>\n",
       "    <tr>\n",
       "      <th>Peter</th>\n",
       "      <td>Registro 7</td>\n",
       "      <td>González</td>\n",
       "      <td>536271</td>\n",
       "      <td>23.0</td>\n",
       "      <td>Baja</td>\n",
       "      <td>0</td>\n",
       "      <td>1</td>\n",
       "      <td>0</td>\n",
       "      <td>8</td>\n",
       "      <td>1</td>\n",
       "    </tr>\n",
       "  </tbody>\n",
       "</table>\n",
       "</div>"
      ],
      "text/plain": [
       "             Campo 1    Campo 3   Campo 4  Campo 5    Estado  Activo  Baja  \\\n",
       "campo_2                                                                      \n",
       "Marcos    Registro 5   GONZÁLEZ   2233434     29.0    Activo       1     0   \n",
       "Hugo      Registro 1      LÓPEZ    123455     20.0      Baja       0     1   \n",
       "Luis      Registro 3        OCA    971298     28.0      Baja       0     1   \n",
       "Jennifer  Registro 6    RAMÍREZ    777222     30.0  Graduado       0     0   \n",
       "Pedro     Registro 4    RAMÍREZ    123098     28.0    Activo       1     0   \n",
       "Paco      Registro 2      SILVA    736923     35.0    Activo       1     0   \n",
       "Peter     Registro 7   González    536271     23.0      Baja       0     1   \n",
       "\n",
       "          Graduado  Fac Sexo  \n",
       "campo_2                       \n",
       "Marcos           0    4    1  \n",
       "Hugo             0    3    1  \n",
       "Luis             0    1    1  \n",
       "Jennifer         1    4    0  \n",
       "Pedro            0    5    1  \n",
       "Paco             0    1    1  \n",
       "Peter            0    8    1  "
      ]
     },
     "execution_count": 93,
     "metadata": {},
     "output_type": "execute_result"
    }
   ],
   "source": [
    "Frame[\"Fac\"] = [4,3,1,4,5,1,8]\n",
    "Frame[\"Sexo\"] = [\"1\",\"1\",\"1\",\"0\",\"1\",\"1\",\"1\"]\n",
    "Frame"
   ]
  },
  {
   "cell_type": "code",
   "execution_count": 94,
   "metadata": {},
   "outputs": [
    {
     "data": {
      "text/plain": [
       "Estado\n",
       "Activo      10\n",
       "Baja        12\n",
       "Graduado     4\n",
       "Name: Fac, dtype: int64"
      ]
     },
     "execution_count": 94,
     "metadata": {},
     "output_type": "execute_result"
    }
   ],
   "source": [
    "# Sumo el valor de la columna Fac agrupado por cada uno de los Estados\n",
    "\n",
    "Frame.groupby('Estado')[\"Fac\"].sum() # En R es tapply(Frame$Fac,Frame$Estado,sum)\n"
   ]
  },
  {
   "cell_type": "code",
   "execution_count": 95,
   "metadata": {},
   "outputs": [
    {
     "data": {
      "text/plain": [
       "Estado    Sexo\n",
       "Activo    1       10\n",
       "Baja      1       12\n",
       "Graduado  0        4\n",
       "Name: Fac, dtype: int64"
      ]
     },
     "execution_count": 95,
     "metadata": {},
     "output_type": "execute_result"
    }
   ],
   "source": [
    "# Agrupa por estado y Sexo y suma por Fac\n",
    "\n",
    "Frame.groupby(['Estado',\"Sexo\"])[\"Fac\"].sum() # En R es tapply(Frame$Fac,list(Frame$Estado,Frame$Sexo),sum)"
   ]
  },
  {
   "cell_type": "code",
   "execution_count": null,
   "metadata": {},
   "outputs": [],
   "source": [
    "Frame.groupby([\"Estado\",\"Sexo\"])[\"Fac\"].sum()[\"Activo\",\"0\"]"
   ]
  },
  {
   "cell_type": "code",
   "execution_count": 98,
   "metadata": {},
   "outputs": [
    {
     "name": "stdout",
     "output_type": "stream",
     "text": [
      "<class 'pandas.core.frame.DataFrame'>\n",
      "Index: 7 entries, Marcos to Peter\n",
      "Data columns (total 10 columns):\n",
      " #   Column    Non-Null Count  Dtype  \n",
      "---  ------    --------------  -----  \n",
      " 0   Campo 1   7 non-null      object \n",
      " 1   Campo 3   7 non-null      object \n",
      " 2   Campo 4   7 non-null      object \n",
      " 3   Campo 5   7 non-null      float64\n",
      " 4   Estado    7 non-null      object \n",
      " 5   Activo    7 non-null      uint8  \n",
      " 6   Baja      7 non-null      uint8  \n",
      " 7   Graduado  7 non-null      uint8  \n",
      " 8   Fac       7 non-null      int64  \n",
      " 9   Sexo      7 non-null      object \n",
      "dtypes: float64(1), int64(1), object(5), uint8(3)\n",
      "memory usage: 469.0+ bytes\n"
     ]
    }
   ],
   "source": [
    "Frame.info()"
   ]
  },
  {
   "cell_type": "code",
   "execution_count": 99,
   "metadata": {},
   "outputs": [],
   "source": [
    "# Reemplazo los 0 que tengo en la columna sexo por la palabra\n",
    "# mujer en una nueva columna llamada SEXO y lo mismo para hombre\n",
    "\n",
    "Frame[\"SEXO\"] = np.where(Frame[\"Sexo\"]==\"0\",\"mujer\",\"hombre\")"
   ]
  },
  {
   "cell_type": "code",
   "execution_count": 100,
   "metadata": {},
   "outputs": [
    {
     "data": {
      "text/html": [
       "<div>\n",
       "<style scoped>\n",
       "    .dataframe tbody tr th:only-of-type {\n",
       "        vertical-align: middle;\n",
       "    }\n",
       "\n",
       "    .dataframe tbody tr th {\n",
       "        vertical-align: top;\n",
       "    }\n",
       "\n",
       "    .dataframe thead th {\n",
       "        text-align: right;\n",
       "    }\n",
       "</style>\n",
       "<table border=\"1\" class=\"dataframe\">\n",
       "  <thead>\n",
       "    <tr style=\"text-align: right;\">\n",
       "      <th></th>\n",
       "      <th>Campo 1</th>\n",
       "      <th>Campo 3</th>\n",
       "      <th>Campo 4</th>\n",
       "      <th>Campo 5</th>\n",
       "      <th>Estado</th>\n",
       "      <th>Activo</th>\n",
       "      <th>Baja</th>\n",
       "      <th>Graduado</th>\n",
       "      <th>Fac</th>\n",
       "      <th>Sexo</th>\n",
       "      <th>SEXO</th>\n",
       "    </tr>\n",
       "    <tr>\n",
       "      <th>campo_2</th>\n",
       "      <th></th>\n",
       "      <th></th>\n",
       "      <th></th>\n",
       "      <th></th>\n",
       "      <th></th>\n",
       "      <th></th>\n",
       "      <th></th>\n",
       "      <th></th>\n",
       "      <th></th>\n",
       "      <th></th>\n",
       "      <th></th>\n",
       "    </tr>\n",
       "  </thead>\n",
       "  <tbody>\n",
       "    <tr>\n",
       "      <th>Marcos</th>\n",
       "      <td>Registro 5</td>\n",
       "      <td>GONZÁLEZ</td>\n",
       "      <td>2233434</td>\n",
       "      <td>29.0</td>\n",
       "      <td>Activo</td>\n",
       "      <td>1</td>\n",
       "      <td>0</td>\n",
       "      <td>0</td>\n",
       "      <td>4</td>\n",
       "      <td>1</td>\n",
       "      <td>hombre</td>\n",
       "    </tr>\n",
       "    <tr>\n",
       "      <th>Hugo</th>\n",
       "      <td>Registro 1</td>\n",
       "      <td>LÓPEZ</td>\n",
       "      <td>123455</td>\n",
       "      <td>20.0</td>\n",
       "      <td>Baja</td>\n",
       "      <td>0</td>\n",
       "      <td>1</td>\n",
       "      <td>0</td>\n",
       "      <td>3</td>\n",
       "      <td>1</td>\n",
       "      <td>hombre</td>\n",
       "    </tr>\n",
       "    <tr>\n",
       "      <th>Luis</th>\n",
       "      <td>Registro 3</td>\n",
       "      <td>OCA</td>\n",
       "      <td>971298</td>\n",
       "      <td>28.0</td>\n",
       "      <td>Baja</td>\n",
       "      <td>0</td>\n",
       "      <td>1</td>\n",
       "      <td>0</td>\n",
       "      <td>1</td>\n",
       "      <td>1</td>\n",
       "      <td>hombre</td>\n",
       "    </tr>\n",
       "    <tr>\n",
       "      <th>Jennifer</th>\n",
       "      <td>Registro 6</td>\n",
       "      <td>RAMÍREZ</td>\n",
       "      <td>777222</td>\n",
       "      <td>30.0</td>\n",
       "      <td>Graduado</td>\n",
       "      <td>0</td>\n",
       "      <td>0</td>\n",
       "      <td>1</td>\n",
       "      <td>4</td>\n",
       "      <td>0</td>\n",
       "      <td>mujer</td>\n",
       "    </tr>\n",
       "    <tr>\n",
       "      <th>Pedro</th>\n",
       "      <td>Registro 4</td>\n",
       "      <td>RAMÍREZ</td>\n",
       "      <td>123098</td>\n",
       "      <td>28.0</td>\n",
       "      <td>Activo</td>\n",
       "      <td>1</td>\n",
       "      <td>0</td>\n",
       "      <td>0</td>\n",
       "      <td>5</td>\n",
       "      <td>1</td>\n",
       "      <td>hombre</td>\n",
       "    </tr>\n",
       "    <tr>\n",
       "      <th>Paco</th>\n",
       "      <td>Registro 2</td>\n",
       "      <td>SILVA</td>\n",
       "      <td>736923</td>\n",
       "      <td>35.0</td>\n",
       "      <td>Activo</td>\n",
       "      <td>1</td>\n",
       "      <td>0</td>\n",
       "      <td>0</td>\n",
       "      <td>1</td>\n",
       "      <td>1</td>\n",
       "      <td>hombre</td>\n",
       "    </tr>\n",
       "    <tr>\n",
       "      <th>Peter</th>\n",
       "      <td>Registro 7</td>\n",
       "      <td>González</td>\n",
       "      <td>536271</td>\n",
       "      <td>23.0</td>\n",
       "      <td>Baja</td>\n",
       "      <td>0</td>\n",
       "      <td>1</td>\n",
       "      <td>0</td>\n",
       "      <td>8</td>\n",
       "      <td>1</td>\n",
       "      <td>hombre</td>\n",
       "    </tr>\n",
       "  </tbody>\n",
       "</table>\n",
       "</div>"
      ],
      "text/plain": [
       "             Campo 1    Campo 3   Campo 4  Campo 5    Estado  Activo  Baja  \\\n",
       "campo_2                                                                      \n",
       "Marcos    Registro 5   GONZÁLEZ   2233434     29.0    Activo       1     0   \n",
       "Hugo      Registro 1      LÓPEZ    123455     20.0      Baja       0     1   \n",
       "Luis      Registro 3        OCA    971298     28.0      Baja       0     1   \n",
       "Jennifer  Registro 6    RAMÍREZ    777222     30.0  Graduado       0     0   \n",
       "Pedro     Registro 4    RAMÍREZ    123098     28.0    Activo       1     0   \n",
       "Paco      Registro 2      SILVA    736923     35.0    Activo       1     0   \n",
       "Peter     Registro 7   González    536271     23.0      Baja       0     1   \n",
       "\n",
       "          Graduado  Fac Sexo    SEXO  \n",
       "campo_2                               \n",
       "Marcos           0    4    1  hombre  \n",
       "Hugo             0    3    1  hombre  \n",
       "Luis             0    1    1  hombre  \n",
       "Jennifer         1    4    0   mujer  \n",
       "Pedro            0    5    1  hombre  \n",
       "Paco             0    1    1  hombre  \n",
       "Peter            0    8    1  hombre  "
      ]
     },
     "execution_count": 100,
     "metadata": {},
     "output_type": "execute_result"
    }
   ],
   "source": [
    "Frame"
   ]
  }
 ],
 "metadata": {
  "kernelspec": {
   "display_name": "base",
   "language": "python",
   "name": "python3"
  },
  "language_info": {
   "codemirror_mode": {
    "name": "ipython",
    "version": 3
   },
   "file_extension": ".py",
   "mimetype": "text/x-python",
   "name": "python",
   "nbconvert_exporter": "python",
   "pygments_lexer": "ipython3",
   "version": "3.9.15"
  },
  "vscode": {
   "interpreter": {
    "hash": "9698622665efeced23a770464fbc670e3a035e5b5f87751e7bf39439703da242"
   }
  }
 },
 "nbformat": 4,
 "nbformat_minor": 4
}
